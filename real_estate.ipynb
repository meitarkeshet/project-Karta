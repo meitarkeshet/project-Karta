{
 "cells": [
  {
   "cell_type": "markdown",
   "metadata": {},
   "source": [
    "Import packages"
   ]
  },
  {
   "cell_type": "code",
   "execution_count": 1,
   "metadata": {},
   "outputs": [],
   "source": [
    "import pandas as pd\n",
    "import numpy as np\n",
    "# for moving around libraries \n",
    "import os \n",
    "# for visualizing \n",
    "import matplotlib.pyplot as plt\n",
    "import seaborn as sns\n",
    "# for finding word \n",
    "import re"
   ]
  },
  {
   "cell_type": "markdown",
   "metadata": {},
   "source": [
    "# NYC real-estate data"
   ]
  },
  {
   "cell_type": "markdown",
   "metadata": {},
   "source": [
    "## Zillow housing data\n",
    "### src: https://www.zillow.com/research/data/"
   ]
  },
  {
   "cell_type": "markdown",
   "metadata": {},
   "source": [
    "Yearly Home values, by neighbourhood"
   ]
  },
  {
   "cell_type": "code",
   "execution_count": 2,
   "metadata": {},
   "outputs": [
    {
     "ename": "FileNotFoundError",
     "evalue": "[WinError 2] The system cannot find the file specified: '../Data'",
     "output_type": "error",
     "traceback": [
      "\u001b[1;31m---------------------------------------------------------------------------\u001b[0m",
      "\u001b[1;31mFileNotFoundError\u001b[0m                         Traceback (most recent call last)",
      "\u001b[1;32m<ipython-input-2-c1fd8f6a6a9c>\u001b[0m in \u001b[0;36m<module>\u001b[1;34m\u001b[0m\n\u001b[0;32m      1\u001b[0m \u001b[1;31m# move to correct directory (NOTICE problems on git?)\u001b[0m\u001b[1;33m\u001b[0m\u001b[1;33m\u001b[0m\u001b[1;33m\u001b[0m\u001b[0m\n\u001b[1;32m----> 2\u001b[1;33m \u001b[0mos\u001b[0m\u001b[1;33m.\u001b[0m\u001b[0mchdir\u001b[0m\u001b[1;33m(\u001b[0m\u001b[1;34m\"../Data\"\u001b[0m\u001b[1;33m)\u001b[0m\u001b[1;33m\u001b[0m\u001b[1;33m\u001b[0m\u001b[0m\n\u001b[0m",
      "\u001b[1;31mFileNotFoundError\u001b[0m: [WinError 2] The system cannot find the file specified: '../Data'"
     ]
    }
   ],
   "source": [
    "# move to correct directory (NOTICE problems on git?)\n",
    "os.chdir(\"../Data\")"
   ]
  },
  {
   "cell_type": "code",
   "execution_count": 3,
   "metadata": {},
   "outputs": [
    {
     "ename": "FileNotFoundError",
     "evalue": "[Errno 2] File ./Neighborhood_zhvi_uc_sfrcondo_tier_0.33_0.67_sm_sa_mon.csv does not exist: './Neighborhood_zhvi_uc_sfrcondo_tier_0.33_0.67_sm_sa_mon.csv'",
     "output_type": "error",
     "traceback": [
      "\u001b[1;31m---------------------------------------------------------------------------\u001b[0m",
      "\u001b[1;31mFileNotFoundError\u001b[0m                         Traceback (most recent call last)",
      "\u001b[1;32m<ipython-input-3-a057229c7fe8>\u001b[0m in \u001b[0;36m<module>\u001b[1;34m\u001b[0m\n\u001b[1;32m----> 1\u001b[1;33m home_values = pd.read_csv(\"./Neighborhood_zhvi_uc_sfrcondo_tier_0.33_0.67_sm_sa_mon.csv\", \n\u001b[0m\u001b[0;32m      2\u001b[0m                      \u001b[0mheader\u001b[0m\u001b[1;33m=\u001b[0m\u001b[1;36m0\u001b[0m\u001b[1;33m,\u001b[0m\u001b[1;33m\u001b[0m\u001b[1;33m\u001b[0m\u001b[0m\n\u001b[0;32m      3\u001b[0m                      infer_datetime_format=True)\n\u001b[0;32m      4\u001b[0m                      \u001b[1;31m#names=['Month','airbnb office: (New York)']).iloc[1:]\u001b[0m\u001b[1;33m\u001b[0m\u001b[1;33m\u001b[0m\u001b[1;33m\u001b[0m\u001b[0m\n",
      "\u001b[1;32m~\\anaconda3\\lib\\site-packages\\pandas\\io\\parsers.py\u001b[0m in \u001b[0;36mparser_f\u001b[1;34m(filepath_or_buffer, sep, delimiter, header, names, index_col, usecols, squeeze, prefix, mangle_dupe_cols, dtype, engine, converters, true_values, false_values, skipinitialspace, skiprows, skipfooter, nrows, na_values, keep_default_na, na_filter, verbose, skip_blank_lines, parse_dates, infer_datetime_format, keep_date_col, date_parser, dayfirst, cache_dates, iterator, chunksize, compression, thousands, decimal, lineterminator, quotechar, quoting, doublequote, escapechar, comment, encoding, dialect, error_bad_lines, warn_bad_lines, delim_whitespace, low_memory, memory_map, float_precision)\u001b[0m\n\u001b[0;32m    674\u001b[0m         )\n\u001b[0;32m    675\u001b[0m \u001b[1;33m\u001b[0m\u001b[0m\n\u001b[1;32m--> 676\u001b[1;33m         \u001b[1;32mreturn\u001b[0m \u001b[0m_read\u001b[0m\u001b[1;33m(\u001b[0m\u001b[0mfilepath_or_buffer\u001b[0m\u001b[1;33m,\u001b[0m \u001b[0mkwds\u001b[0m\u001b[1;33m)\u001b[0m\u001b[1;33m\u001b[0m\u001b[1;33m\u001b[0m\u001b[0m\n\u001b[0m\u001b[0;32m    677\u001b[0m \u001b[1;33m\u001b[0m\u001b[0m\n\u001b[0;32m    678\u001b[0m     \u001b[0mparser_f\u001b[0m\u001b[1;33m.\u001b[0m\u001b[0m__name__\u001b[0m \u001b[1;33m=\u001b[0m \u001b[0mname\u001b[0m\u001b[1;33m\u001b[0m\u001b[1;33m\u001b[0m\u001b[0m\n",
      "\u001b[1;32m~\\anaconda3\\lib\\site-packages\\pandas\\io\\parsers.py\u001b[0m in \u001b[0;36m_read\u001b[1;34m(filepath_or_buffer, kwds)\u001b[0m\n\u001b[0;32m    446\u001b[0m \u001b[1;33m\u001b[0m\u001b[0m\n\u001b[0;32m    447\u001b[0m     \u001b[1;31m# Create the parser.\u001b[0m\u001b[1;33m\u001b[0m\u001b[1;33m\u001b[0m\u001b[1;33m\u001b[0m\u001b[0m\n\u001b[1;32m--> 448\u001b[1;33m     \u001b[0mparser\u001b[0m \u001b[1;33m=\u001b[0m \u001b[0mTextFileReader\u001b[0m\u001b[1;33m(\u001b[0m\u001b[0mfp_or_buf\u001b[0m\u001b[1;33m,\u001b[0m \u001b[1;33m**\u001b[0m\u001b[0mkwds\u001b[0m\u001b[1;33m)\u001b[0m\u001b[1;33m\u001b[0m\u001b[1;33m\u001b[0m\u001b[0m\n\u001b[0m\u001b[0;32m    449\u001b[0m \u001b[1;33m\u001b[0m\u001b[0m\n\u001b[0;32m    450\u001b[0m     \u001b[1;32mif\u001b[0m \u001b[0mchunksize\u001b[0m \u001b[1;32mor\u001b[0m \u001b[0miterator\u001b[0m\u001b[1;33m:\u001b[0m\u001b[1;33m\u001b[0m\u001b[1;33m\u001b[0m\u001b[0m\n",
      "\u001b[1;32m~\\anaconda3\\lib\\site-packages\\pandas\\io\\parsers.py\u001b[0m in \u001b[0;36m__init__\u001b[1;34m(self, f, engine, **kwds)\u001b[0m\n\u001b[0;32m    878\u001b[0m             \u001b[0mself\u001b[0m\u001b[1;33m.\u001b[0m\u001b[0moptions\u001b[0m\u001b[1;33m[\u001b[0m\u001b[1;34m\"has_index_names\"\u001b[0m\u001b[1;33m]\u001b[0m \u001b[1;33m=\u001b[0m \u001b[0mkwds\u001b[0m\u001b[1;33m[\u001b[0m\u001b[1;34m\"has_index_names\"\u001b[0m\u001b[1;33m]\u001b[0m\u001b[1;33m\u001b[0m\u001b[1;33m\u001b[0m\u001b[0m\n\u001b[0;32m    879\u001b[0m \u001b[1;33m\u001b[0m\u001b[0m\n\u001b[1;32m--> 880\u001b[1;33m         \u001b[0mself\u001b[0m\u001b[1;33m.\u001b[0m\u001b[0m_make_engine\u001b[0m\u001b[1;33m(\u001b[0m\u001b[0mself\u001b[0m\u001b[1;33m.\u001b[0m\u001b[0mengine\u001b[0m\u001b[1;33m)\u001b[0m\u001b[1;33m\u001b[0m\u001b[1;33m\u001b[0m\u001b[0m\n\u001b[0m\u001b[0;32m    881\u001b[0m \u001b[1;33m\u001b[0m\u001b[0m\n\u001b[0;32m    882\u001b[0m     \u001b[1;32mdef\u001b[0m \u001b[0mclose\u001b[0m\u001b[1;33m(\u001b[0m\u001b[0mself\u001b[0m\u001b[1;33m)\u001b[0m\u001b[1;33m:\u001b[0m\u001b[1;33m\u001b[0m\u001b[1;33m\u001b[0m\u001b[0m\n",
      "\u001b[1;32m~\\anaconda3\\lib\\site-packages\\pandas\\io\\parsers.py\u001b[0m in \u001b[0;36m_make_engine\u001b[1;34m(self, engine)\u001b[0m\n\u001b[0;32m   1112\u001b[0m     \u001b[1;32mdef\u001b[0m \u001b[0m_make_engine\u001b[0m\u001b[1;33m(\u001b[0m\u001b[0mself\u001b[0m\u001b[1;33m,\u001b[0m \u001b[0mengine\u001b[0m\u001b[1;33m=\u001b[0m\u001b[1;34m\"c\"\u001b[0m\u001b[1;33m)\u001b[0m\u001b[1;33m:\u001b[0m\u001b[1;33m\u001b[0m\u001b[1;33m\u001b[0m\u001b[0m\n\u001b[0;32m   1113\u001b[0m         \u001b[1;32mif\u001b[0m \u001b[0mengine\u001b[0m \u001b[1;33m==\u001b[0m \u001b[1;34m\"c\"\u001b[0m\u001b[1;33m:\u001b[0m\u001b[1;33m\u001b[0m\u001b[1;33m\u001b[0m\u001b[0m\n\u001b[1;32m-> 1114\u001b[1;33m             \u001b[0mself\u001b[0m\u001b[1;33m.\u001b[0m\u001b[0m_engine\u001b[0m \u001b[1;33m=\u001b[0m \u001b[0mCParserWrapper\u001b[0m\u001b[1;33m(\u001b[0m\u001b[0mself\u001b[0m\u001b[1;33m.\u001b[0m\u001b[0mf\u001b[0m\u001b[1;33m,\u001b[0m \u001b[1;33m**\u001b[0m\u001b[0mself\u001b[0m\u001b[1;33m.\u001b[0m\u001b[0moptions\u001b[0m\u001b[1;33m)\u001b[0m\u001b[1;33m\u001b[0m\u001b[1;33m\u001b[0m\u001b[0m\n\u001b[0m\u001b[0;32m   1115\u001b[0m         \u001b[1;32melse\u001b[0m\u001b[1;33m:\u001b[0m\u001b[1;33m\u001b[0m\u001b[1;33m\u001b[0m\u001b[0m\n\u001b[0;32m   1116\u001b[0m             \u001b[1;32mif\u001b[0m \u001b[0mengine\u001b[0m \u001b[1;33m==\u001b[0m \u001b[1;34m\"python\"\u001b[0m\u001b[1;33m:\u001b[0m\u001b[1;33m\u001b[0m\u001b[1;33m\u001b[0m\u001b[0m\n",
      "\u001b[1;32m~\\anaconda3\\lib\\site-packages\\pandas\\io\\parsers.py\u001b[0m in \u001b[0;36m__init__\u001b[1;34m(self, src, **kwds)\u001b[0m\n\u001b[0;32m   1889\u001b[0m         \u001b[0mkwds\u001b[0m\u001b[1;33m[\u001b[0m\u001b[1;34m\"usecols\"\u001b[0m\u001b[1;33m]\u001b[0m \u001b[1;33m=\u001b[0m \u001b[0mself\u001b[0m\u001b[1;33m.\u001b[0m\u001b[0musecols\u001b[0m\u001b[1;33m\u001b[0m\u001b[1;33m\u001b[0m\u001b[0m\n\u001b[0;32m   1890\u001b[0m \u001b[1;33m\u001b[0m\u001b[0m\n\u001b[1;32m-> 1891\u001b[1;33m         \u001b[0mself\u001b[0m\u001b[1;33m.\u001b[0m\u001b[0m_reader\u001b[0m \u001b[1;33m=\u001b[0m \u001b[0mparsers\u001b[0m\u001b[1;33m.\u001b[0m\u001b[0mTextReader\u001b[0m\u001b[1;33m(\u001b[0m\u001b[0msrc\u001b[0m\u001b[1;33m,\u001b[0m \u001b[1;33m**\u001b[0m\u001b[0mkwds\u001b[0m\u001b[1;33m)\u001b[0m\u001b[1;33m\u001b[0m\u001b[1;33m\u001b[0m\u001b[0m\n\u001b[0m\u001b[0;32m   1892\u001b[0m         \u001b[0mself\u001b[0m\u001b[1;33m.\u001b[0m\u001b[0munnamed_cols\u001b[0m \u001b[1;33m=\u001b[0m \u001b[0mself\u001b[0m\u001b[1;33m.\u001b[0m\u001b[0m_reader\u001b[0m\u001b[1;33m.\u001b[0m\u001b[0munnamed_cols\u001b[0m\u001b[1;33m\u001b[0m\u001b[1;33m\u001b[0m\u001b[0m\n\u001b[0;32m   1893\u001b[0m \u001b[1;33m\u001b[0m\u001b[0m\n",
      "\u001b[1;32mpandas\\_libs\\parsers.pyx\u001b[0m in \u001b[0;36mpandas._libs.parsers.TextReader.__cinit__\u001b[1;34m()\u001b[0m\n",
      "\u001b[1;32mpandas\\_libs\\parsers.pyx\u001b[0m in \u001b[0;36mpandas._libs.parsers.TextReader._setup_parser_source\u001b[1;34m()\u001b[0m\n",
      "\u001b[1;31mFileNotFoundError\u001b[0m: [Errno 2] File ./Neighborhood_zhvi_uc_sfrcondo_tier_0.33_0.67_sm_sa_mon.csv does not exist: './Neighborhood_zhvi_uc_sfrcondo_tier_0.33_0.67_sm_sa_mon.csv'"
     ]
    }
   ],
   "source": [
    "home_values = pd.read_csv(\"./Neighborhood_zhvi_uc_sfrcondo_tier_0.33_0.67_sm_sa_mon.csv\", \n",
    "                     header=0, \n",
    "                     infer_datetime_format=True)\n",
    "                     #names=['Month','airbnb office: (New York)']).iloc[1:]"
   ]
  },
  {
   "cell_type": "markdown",
   "metadata": {},
   "source": [
    "keep only NYC"
   ]
  },
  {
   "cell_type": "code",
   "execution_count": 4,
   "metadata": {},
   "outputs": [
    {
     "ename": "NameError",
     "evalue": "name 'home_values' is not defined",
     "output_type": "error",
     "traceback": [
      "\u001b[1;31m---------------------------------------------------------------------------\u001b[0m",
      "\u001b[1;31mNameError\u001b[0m                                 Traceback (most recent call last)",
      "\u001b[1;32m<ipython-input-4-a69351997833>\u001b[0m in \u001b[0;36m<module>\u001b[1;34m\u001b[0m\n\u001b[1;32m----> 1\u001b[1;33m \u001b[0mny_home_values\u001b[0m\u001b[1;33m=\u001b[0m\u001b[0mhome_values\u001b[0m\u001b[1;33m.\u001b[0m\u001b[0mloc\u001b[0m\u001b[1;33m[\u001b[0m\u001b[0mhome_values\u001b[0m\u001b[1;33m[\u001b[0m\u001b[1;34m'City'\u001b[0m\u001b[1;33m]\u001b[0m \u001b[1;33m==\u001b[0m \u001b[1;34m'New York'\u001b[0m\u001b[1;33m]\u001b[0m\u001b[1;33m\u001b[0m\u001b[1;33m\u001b[0m\u001b[0m\n\u001b[0m",
      "\u001b[1;31mNameError\u001b[0m: name 'home_values' is not defined"
     ]
    }
   ],
   "source": [
    "ny_home_values=home_values.loc[home_values['City'] == 'New York']"
   ]
  },
  {
   "cell_type": "markdown",
   "metadata": {},
   "source": [
    "drop unused columns"
   ]
  },
  {
   "cell_type": "code",
   "execution_count": 5,
   "metadata": {},
   "outputs": [
    {
     "ename": "NameError",
     "evalue": "name 'ny_home_values' is not defined",
     "output_type": "error",
     "traceback": [
      "\u001b[1;31m---------------------------------------------------------------------------\u001b[0m",
      "\u001b[1;31mNameError\u001b[0m                                 Traceback (most recent call last)",
      "\u001b[1;32m<ipython-input-5-b396890cd30a>\u001b[0m in \u001b[0;36m<module>\u001b[1;34m\u001b[0m\n\u001b[1;32m----> 1\u001b[1;33m \u001b[0mny_home_values\u001b[0m\u001b[1;33m.\u001b[0m\u001b[0mreset_index\u001b[0m\u001b[1;33m(\u001b[0m\u001b[0mlevel\u001b[0m\u001b[1;33m=\u001b[0m\u001b[1;36m0\u001b[0m\u001b[1;33m,\u001b[0m \u001b[0minplace\u001b[0m\u001b[1;33m=\u001b[0m\u001b[1;32mTrue\u001b[0m\u001b[1;33m)\u001b[0m\u001b[1;33m\u001b[0m\u001b[1;33m\u001b[0m\u001b[0m\n\u001b[0m",
      "\u001b[1;31mNameError\u001b[0m: name 'ny_home_values' is not defined"
     ]
    }
   ],
   "source": [
    "ny_home_values.reset_index(level=0, inplace=True)"
   ]
  },
  {
   "cell_type": "code",
   "execution_count": 6,
   "metadata": {},
   "outputs": [
    {
     "ename": "NameError",
     "evalue": "name 'ny_home_values' is not defined",
     "output_type": "error",
     "traceback": [
      "\u001b[1;31m---------------------------------------------------------------------------\u001b[0m",
      "\u001b[1;31mNameError\u001b[0m                                 Traceback (most recent call last)",
      "\u001b[1;32m<ipython-input-6-c5aa487b2d2e>\u001b[0m in \u001b[0;36m<module>\u001b[1;34m\u001b[0m\n\u001b[1;32m----> 1\u001b[1;33m ny_home_values = ny_home_values.drop(columns=['RegionType','StateName','State',\n\u001b[0m\u001b[0;32m      2\u001b[0m                                              'City','index'])\n",
      "\u001b[1;31mNameError\u001b[0m: name 'ny_home_values' is not defined"
     ]
    }
   ],
   "source": [
    "ny_home_values = ny_home_values.drop(columns=['RegionType','StateName','State',\n",
    "                                             'City','index'])"
   ]
  },
  {
   "cell_type": "code",
   "execution_count": 7,
   "metadata": {},
   "outputs": [
    {
     "ename": "NameError",
     "evalue": "name 'ny_home_values' is not defined",
     "output_type": "error",
     "traceback": [
      "\u001b[1;31m---------------------------------------------------------------------------\u001b[0m",
      "\u001b[1;31mNameError\u001b[0m                                 Traceback (most recent call last)",
      "\u001b[1;32m<ipython-input-7-fed1f2421be5>\u001b[0m in \u001b[0;36m<module>\u001b[1;34m\u001b[0m\n\u001b[1;32m----> 1\u001b[1;33m \u001b[0mny_home_values\u001b[0m\u001b[1;33m\u001b[0m\u001b[1;33m\u001b[0m\u001b[0m\n\u001b[0m",
      "\u001b[1;31mNameError\u001b[0m: name 'ny_home_values' is not defined"
     ]
    }
   ],
   "source": [
    "ny_home_values"
   ]
  },
  {
   "cell_type": "markdown",
   "metadata": {},
   "source": [
    "## Summaries of Neighborhood and Citywide Annual Sales sorted by borough and neighborhood.\n",
    "### src: https://www1.nyc.gov/site/finance/taxes/property-annualized-sales-update.page"
   ]
  },
  {
   "cell_type": "code",
   "execution_count": 18,
   "metadata": {},
   "outputs": [],
   "source": [
    "# move to correct directory (NOTICE problems on git?)\n",
    "os.chdir(\"C:/Users/meita/Documents/GitHub/project-Karta/Data/sales_data\")"
   ]
  },
  {
   "cell_type": "markdown",
   "metadata": {},
   "source": [
    "In order to open the excel files we'll use the following library"
   ]
  },
  {
   "cell_type": "code",
   "execution_count": 12,
   "metadata": {},
   "outputs": [
    {
     "name": "stdout",
     "output_type": "stream",
     "text": [
      "Requirement already satisfied: xlrd in c:\\users\\meita\\anaconda3\\lib\\site-packages (1.2.0)\n"
     ]
    }
   ],
   "source": [
    "!pip install xlrd"
   ]
  },
  {
   "cell_type": "markdown",
   "metadata": {},
   "source": [
    "Check xls encoding value to be able to read it with python"
   ]
  },
  {
   "cell_type": "markdown",
   "metadata": {},
   "source": [
    "# Extract, transform, load (ETL)"
   ]
  },
  {
   "cell_type": "markdown",
   "metadata": {},
   "source": [
    "## Extract"
   ]
  },
  {
   "cell_type": "markdown",
   "metadata": {},
   "source": [
    "Let's see all the sales data we collected"
   ]
  },
  {
   "cell_type": "code",
   "execution_count": 20,
   "metadata": {},
   "outputs": [
    {
     "name": "stdout",
     "output_type": "stream",
     "text": [
      "2009_bronx.xls\n",
      "2009_brooklyn.xls\n",
      "2009_manhattan.xls\n",
      "2009_queens.xls\n",
      "2009_statenisland.xls\n",
      "2010_bronx.xls\n",
      "2010_brooklyn.xls\n",
      "2010_manhattan.xls\n",
      "2010_queens.xls\n",
      "2010_statenisland.xls\n",
      "2011_bronx.xls\n",
      "2011_brooklyn.xls\n",
      "2011_manhattan.xls\n",
      "2011_queens.xls\n",
      "2011_statenisland.xls\n",
      "2012_bronx.xls\n",
      "2012_brooklyn.xls\n",
      "2012_manhattan.xls\n",
      "2012_queens.xls\n",
      "2012_statenisland.xls\n",
      "2013_bronx.xls\n",
      "2013_brooklyn.xls\n",
      "2013_manhattan.xls\n",
      "2013_queens.xls\n",
      "2013_statenisland.xls\n",
      "2014_bronx.xls\n",
      "2014_brooklyn.xls\n",
      "2014_manhattan.xls\n",
      "2014_queens.xls\n",
      "2014_statenisland.xls\n",
      "2015_bronx.xls\n",
      "2015_brooklyn.xls\n",
      "2015_manhattan.xls\n",
      "2015_queens.xls\n",
      "2015_statenisland.xls\n",
      "2016_bronx.xls\n",
      "2016_brooklyn.xls\n",
      "2016_manhattan.xls\n",
      "2016_queens.xls\n",
      "2016_statenisland.xls\n",
      "2017_bronx.xls\n",
      "2017_brooklyn.xls\n",
      "2017_manhattan.xls\n",
      "2017_queens.xls\n",
      "2017_statenisland.xls\n",
      "2018_bronx.xlsx\n",
      "2018_brooklyn.xlsx\n",
      "2018_manhattan.xlsx\n",
      "2018_queens.xlsx\n",
      "2018_statenisland.xlsx\n",
      "2019_bronx.xlsx\n",
      "2019_brooklyn.xlsx\n",
      "2019_manhattan.xlsx\n",
      "2019_queens.xlsx\n",
      "2019_statenisland.xlsx\n",
      "sales_2007_bronx.xls\n",
      "sales_2007_brooklyn.xls\n",
      "sales_2007_manhattan.xls\n",
      "sales_2007_queens.xls\n",
      "sales_2007_statenisland.xls\n",
      "sales_2008_bronx.xls\n",
      "sales_2008_brooklyn.xls\n",
      "sales_2008_manhattan.xls\n",
      "sales_2008_queens.xls\n",
      "sales_2008_statenisland.xls\n",
      "sales_bronx_03.xls\n",
      "sales_bronx_04.xls\n",
      "sales_bronx_05.xls\n",
      "sales_bronx_06.xls\n",
      "sales_brooklyn_03.xls\n",
      "sales_brooklyn_04.xls\n",
      "sales_brooklyn_05.xls\n",
      "sales_brooklyn_06.xls\n",
      "sales_manhattan_03.xls\n",
      "sales_manhattan_04.xls\n",
      "sales_manhattan_05.xls\n",
      "sales_manhattan_06.xls\n",
      "sales_queens_03.xls\n",
      "sales_queens_04.xls\n",
      "sales_queens_05.xls\n",
      "sales_queens_06.xls\n",
      "sales_si_03.xls\n",
      "sales_si_04.xls\n",
      "sales_si_05.xls\n",
      "sales_si_06.xls\n"
     ]
    }
   ],
   "source": [
    "path = 'C:/Users/meita/Documents/GitHub/project-Karta/Data/sales_data'\n",
    "files = os.listdir(path)\n",
    "for f in files:\n",
    "\tprint(f)"
   ]
  },
  {
   "cell_type": "markdown",
   "metadata": {},
   "source": [
    "We can assume that the way the name of the file is formetted has an impact on the way the data is stractured inside (e.g sales_brooklyn_03 is probably different than 2017_brooklyn but not as different then sales_brooklyn_05.\n"
   ]
  },
  {
   "cell_type": "markdown",
   "metadata": {},
   "source": [
    "To select only certain files that we assume would be alike, we'll import glob"
   ]
  },
  {
   "cell_type": "code",
   "execution_count": 22,
   "metadata": {},
   "outputs": [],
   "source": [
    "import glob"
   ]
  },
  {
   "cell_type": "markdown",
   "metadata": {},
   "source": [
    "### 2017"
   ]
  },
  {
   "cell_type": "markdown",
   "metadata": {},
   "source": [
    "Let's save all files from 2017 to the same list"
   ]
  },
  {
   "cell_type": "code",
   "execution_count": 25,
   "metadata": {},
   "outputs": [
    {
     "name": "stdout",
     "output_type": "stream",
     "text": [
      "['2017_bronx.xls', '2017_brooklyn.xls', '2017_manhattan.xls', '2017_queens.xls', '2017_statenisland.xls']\n"
     ]
    }
   ],
   "source": [
    "sls_2017 = [file for file in glob.glob(\"2017_*\")]\n",
    "print(sls_2017)"
   ]
  },
  {
   "cell_type": "markdown",
   "metadata": {},
   "source": [
    "Because we are dealing with excel files (and not csv for example) we need to make sure the file encoding is fitting the way that we open the file."
   ]
  },
  {
   "cell_type": "code",
   "execution_count": 74,
   "metadata": {},
   "outputs": [
    {
     "data": {
      "text/plain": [
       "'cp65001'"
      ]
     },
     "execution_count": 74,
     "metadata": {},
     "output_type": "execute_result"
    }
   ],
   "source": [
    "def df_encoding(file):\n",
    "    with open(f\"./{file}\") as f:\n",
    "        return(f.encoding)\n",
    "df_encoding(sls_2017[0])"
   ]
  },
  {
   "cell_type": "markdown",
   "metadata": {},
   "source": [
    "Giving each DataFrame variable a standertized name"
   ]
  },
  {
   "cell_type": "code",
   "execution_count": 61,
   "metadata": {},
   "outputs": [
    {
     "data": {
      "text/plain": [
       "'ann_sales_2017_bronx.xls'"
      ]
     },
     "execution_count": 61,
     "metadata": {},
     "output_type": "execute_result"
    }
   ],
   "source": [
    "def df_var_name(file):\n",
    "    file_name = file\n",
    "    file_var_name = \"ann_sales_{tmp_file_name}\" \n",
    "    return(file_var_name.format(tmp_file_name = file_name))\n",
    "df_var_name(sls_2017[0])"
   ]
  },
  {
   "cell_type": "markdown",
   "metadata": {},
   "source": [
    "Taking a file name and returning a DataFrame "
   ]
  },
  {
   "cell_type": "code",
   "execution_count": 78,
   "metadata": {},
   "outputs": [],
   "source": [
    "def df_extract(file_name):\n",
    "    file = file_name\n",
    "    x = pd.read_excel(f\"./{file}\", \n",
    "                     header=0, \n",
    "                     infer_datetime_format=True,\n",
    "                     encoding=df_encoding(file_name))\n",
    "    return(x)"
   ]
  },
  {
   "cell_type": "markdown",
   "metadata": {},
   "source": [
    "Take a list of excel files and return a dictonary containing each file as a data frame "
   ]
  },
  {
   "cell_type": "code",
   "execution_count": 242,
   "metadata": {},
   "outputs": [],
   "source": [
    "def df_import(lst_of_files):\n",
    "        df_dict = {df_var_name(name): df_extract(name) for name in lst_of_files}\n",
    "        return(df_dict)"
   ]
  },
  {
   "cell_type": "markdown",
   "metadata": {},
   "source": [
    "For each year, create a dictionnary containing the a DataFram for each Borough in NYC"
   ]
  },
  {
   "cell_type": "code",
   "execution_count": 259,
   "metadata": {},
   "outputs": [
    {
     "name": "stdout",
     "output_type": "stream",
     "text": [
      "2017_bronx.xls\n",
      "2017_brooklyn.xls\n",
      "2017_manhattan.xls\n",
      "2017_queens.xls\n",
      "2017_statenisland.xls\n"
     ]
    }
   ],
   "source": [
    "dict_sls_2017 = df_import(sls_2017)"
   ]
  },
  {
   "cell_type": "markdown",
   "metadata": {},
   "source": [
    "## Clean"
   ]
  },
  {
   "cell_type": "markdown",
   "metadata": {},
   "source": [
    "See the keys in a dictionary "
   ]
  },
  {
   "cell_type": "code",
   "execution_count": 260,
   "metadata": {},
   "outputs": [
    {
     "data": {
      "text/plain": [
       "dict_keys(['ann_sales_2017_bronx.xls', 'ann_sales_2017_brooklyn.xls', 'ann_sales_2017_manhattan.xls', 'ann_sales_2017_queens.xls', 'ann_sales_2017_statenisland.xls'])"
      ]
     },
     "execution_count": 260,
     "metadata": {},
     "output_type": "execute_result"
    }
   ],
   "source": [
    "dict_sls_2017.keys()"
   ]
  },
  {
   "cell_type": "markdown",
   "metadata": {},
   "source": [
    "### 2017 Format"
   ]
  },
  {
   "cell_type": "markdown",
   "metadata": {},
   "source": [
    "Takes a key and dictionary of DF's and returns single DataFrame (value of key)"
   ]
  },
  {
   "cell_type": "code",
   "execution_count": 261,
   "metadata": {},
   "outputs": [],
   "source": [
    "def df_2017_std_return_value(key, dicto): \n",
    "    return(dicto.get(key))"
   ]
  },
  {
   "cell_type": "markdown",
   "metadata": {},
   "source": [
    "Takes a single dataFrame and cleans it according to the 2017 excel file standart "
   ]
  },
  {
   "cell_type": "code",
   "execution_count": 262,
   "metadata": {},
   "outputs": [],
   "source": [
    "def df_cln_2017_std(df_to_cln): \n",
    "    df_clnd = df_to_cln # copy the dataFrame we want to clean into a new DF\n",
    "    df_clnd = df_clnd.drop(df_clnd.index[:3]) # drop the first three rows\n",
    "    new_header = df_clnd.iloc[0] #grab the first row for the header\n",
    "    df_clnd = df_clnd[1:] #take the data less the header row\n",
    "    df_clnd.columns = new_header #set the header row as the df header\n",
    "    df_clnd = df_clnd.reset_index(level=0, inplace=False) # reset the index (after removing the first - now 4 - rows)\n",
    "    df_clnd = df_clnd.drop(columns=['index']) # drop the column with the name \"index\" (which is the old index before reset)\n",
    "    df_clnd = df_clnd.rename_axis('', axis='columns') # remove row number falsely used as column name\n",
    "    return(df_clnd)"
   ]
  },
  {
   "cell_type": "markdown",
   "metadata": {},
   "source": [
    "Takes a dictionary of 'dirty' DataFrames and return the dictionary cleaned "
   ]
  },
  {
   "cell_type": "code",
   "execution_count": 263,
   "metadata": {},
   "outputs": [],
   "source": [
    "def dct_of_df_clnr_2017(dict_to_cln):\n",
    "    return ({key: df_cln_2017_std(df_2017_std_return_value(key, dict_to_cln)) for key in (list(dict_to_cln.keys()))})\n",
    "dict_sls_2017.update(dct_of_df_clnr_2017(dict_sls_2017))"
   ]
  },
  {
   "cell_type": "code",
   "execution_count": 267,
   "metadata": {},
   "outputs": [
    {
     "data": {
      "text/html": [
       "<div>\n",
       "<style scoped>\n",
       "    .dataframe tbody tr th:only-of-type {\n",
       "        vertical-align: middle;\n",
       "    }\n",
       "\n",
       "    .dataframe tbody tr th {\n",
       "        vertical-align: top;\n",
       "    }\n",
       "\n",
       "    .dataframe thead th {\n",
       "        text-align: right;\n",
       "    }\n",
       "</style>\n",
       "<table border=\"1\" class=\"dataframe\">\n",
       "  <thead>\n",
       "    <tr style=\"text-align: right;\">\n",
       "      <th></th>\n",
       "      <th>BOROUGH\\n</th>\n",
       "      <th>NEIGHBORHOOD\\n</th>\n",
       "      <th>BUILDING CLASS CATEGORY\\n</th>\n",
       "      <th>TAX CLASS AS OF FINAL ROLL 17/18</th>\n",
       "      <th>BLOCK\\n</th>\n",
       "      <th>LOT\\n</th>\n",
       "      <th>EASE-MENT\\n</th>\n",
       "      <th>BUILDING CLASS AS OF FINAL ROLL 17/18</th>\n",
       "      <th>ADDRESS\\n</th>\n",
       "      <th>APARTMENT NUMBER\\n</th>\n",
       "      <th>...</th>\n",
       "      <th>RESIDENTIAL UNITS\\n</th>\n",
       "      <th>COMMERCIAL UNITS\\n</th>\n",
       "      <th>TOTAL UNITS\\n</th>\n",
       "      <th>LAND SQUARE FEET\\n</th>\n",
       "      <th>GROSS SQUARE FEET\\n</th>\n",
       "      <th>YEAR BUILT\\n</th>\n",
       "      <th>TAX CLASS AT TIME OF SALE\\n</th>\n",
       "      <th>BUILDING CLASS AT TIME OF SALE\\n</th>\n",
       "      <th>SALE PRICE\\n</th>\n",
       "      <th>SALE DATE\\n</th>\n",
       "    </tr>\n",
       "  </thead>\n",
       "  <tbody>\n",
       "    <tr>\n",
       "      <th>0</th>\n",
       "      <td>1</td>\n",
       "      <td>ALPHABET CITY</td>\n",
       "      <td>07 RENTALS - WALKUP APARTMENTS</td>\n",
       "      <td>2</td>\n",
       "      <td>375</td>\n",
       "      <td>28</td>\n",
       "      <td></td>\n",
       "      <td>C4</td>\n",
       "      <td>738 EAST 6TH STREET</td>\n",
       "      <td></td>\n",
       "      <td>...</td>\n",
       "      <td>11</td>\n",
       "      <td>0</td>\n",
       "      <td>11</td>\n",
       "      <td>1750</td>\n",
       "      <td>6500</td>\n",
       "      <td>1900</td>\n",
       "      <td>2</td>\n",
       "      <td>C4</td>\n",
       "      <td>3750000</td>\n",
       "      <td>2017-04-03 00:00:00</td>\n",
       "    </tr>\n",
       "    <tr>\n",
       "      <th>1</th>\n",
       "      <td>1</td>\n",
       "      <td>ALPHABET CITY</td>\n",
       "      <td>07 RENTALS - WALKUP APARTMENTS</td>\n",
       "      <td>2</td>\n",
       "      <td>385</td>\n",
       "      <td>36</td>\n",
       "      <td></td>\n",
       "      <td>C7</td>\n",
       "      <td>27 AVENUE C</td>\n",
       "      <td></td>\n",
       "      <td>...</td>\n",
       "      <td>24</td>\n",
       "      <td>1</td>\n",
       "      <td>25</td>\n",
       "      <td>2650</td>\n",
       "      <td>9960</td>\n",
       "      <td>1910</td>\n",
       "      <td>2</td>\n",
       "      <td>C7</td>\n",
       "      <td>5235000</td>\n",
       "      <td>2017-07-11 00:00:00</td>\n",
       "    </tr>\n",
       "    <tr>\n",
       "      <th>2</th>\n",
       "      <td>1</td>\n",
       "      <td>ALPHABET CITY</td>\n",
       "      <td>07 RENTALS - WALKUP APARTMENTS</td>\n",
       "      <td>2A</td>\n",
       "      <td>392</td>\n",
       "      <td>5</td>\n",
       "      <td></td>\n",
       "      <td>C2</td>\n",
       "      <td>151 AVENUE B</td>\n",
       "      <td></td>\n",
       "      <td>...</td>\n",
       "      <td>5</td>\n",
       "      <td>0</td>\n",
       "      <td>5</td>\n",
       "      <td>2139</td>\n",
       "      <td>4416</td>\n",
       "      <td>1900</td>\n",
       "      <td>2</td>\n",
       "      <td>C2</td>\n",
       "      <td>0</td>\n",
       "      <td>2017-06-16 00:00:00</td>\n",
       "    </tr>\n",
       "    <tr>\n",
       "      <th>3</th>\n",
       "      <td>1</td>\n",
       "      <td>ALPHABET CITY</td>\n",
       "      <td>07 RENTALS - WALKUP APARTMENTS</td>\n",
       "      <td>2A</td>\n",
       "      <td>392</td>\n",
       "      <td>6</td>\n",
       "      <td></td>\n",
       "      <td>C2</td>\n",
       "      <td>153 AVENUE B</td>\n",
       "      <td></td>\n",
       "      <td>...</td>\n",
       "      <td>5</td>\n",
       "      <td>0</td>\n",
       "      <td>5</td>\n",
       "      <td>1633</td>\n",
       "      <td>6440</td>\n",
       "      <td>1900</td>\n",
       "      <td>2</td>\n",
       "      <td>C2</td>\n",
       "      <td>6625000</td>\n",
       "      <td>2017-07-19 00:00:00</td>\n",
       "    </tr>\n",
       "    <tr>\n",
       "      <th>4</th>\n",
       "      <td>1</td>\n",
       "      <td>ALPHABET CITY</td>\n",
       "      <td>07 RENTALS - WALKUP APARTMENTS</td>\n",
       "      <td>2</td>\n",
       "      <td>400</td>\n",
       "      <td>61</td>\n",
       "      <td></td>\n",
       "      <td>C7</td>\n",
       "      <td>193 EAST 4TH   STREET</td>\n",
       "      <td></td>\n",
       "      <td>...</td>\n",
       "      <td>11</td>\n",
       "      <td>1</td>\n",
       "      <td>12</td>\n",
       "      <td>2388</td>\n",
       "      <td>8045</td>\n",
       "      <td>1900</td>\n",
       "      <td>2</td>\n",
       "      <td>C7</td>\n",
       "      <td>7675000</td>\n",
       "      <td>2017-11-13 00:00:00</td>\n",
       "    </tr>\n",
       "    <tr>\n",
       "      <th>...</th>\n",
       "      <td>...</td>\n",
       "      <td>...</td>\n",
       "      <td>...</td>\n",
       "      <td>...</td>\n",
       "      <td>...</td>\n",
       "      <td>...</td>\n",
       "      <td>...</td>\n",
       "      <td>...</td>\n",
       "      <td>...</td>\n",
       "      <td>...</td>\n",
       "      <td>...</td>\n",
       "      <td>...</td>\n",
       "      <td>...</td>\n",
       "      <td>...</td>\n",
       "      <td>...</td>\n",
       "      <td>...</td>\n",
       "      <td>...</td>\n",
       "      <td>...</td>\n",
       "      <td>...</td>\n",
       "      <td>...</td>\n",
       "      <td>...</td>\n",
       "    </tr>\n",
       "    <tr>\n",
       "      <th>18637</th>\n",
       "      <td>1</td>\n",
       "      <td>WASHINGTON HEIGHTS UPPER</td>\n",
       "      <td>32 HOSPITAL AND HEALTH FACILITIES</td>\n",
       "      <td>4</td>\n",
       "      <td>2152</td>\n",
       "      <td>47</td>\n",
       "      <td></td>\n",
       "      <td>I9</td>\n",
       "      <td>2414 AMSTERDAM AVENUE</td>\n",
       "      <td></td>\n",
       "      <td>...</td>\n",
       "      <td>0</td>\n",
       "      <td>3</td>\n",
       "      <td>3</td>\n",
       "      <td>2500</td>\n",
       "      <td>3350</td>\n",
       "      <td>1902</td>\n",
       "      <td>4</td>\n",
       "      <td>I9</td>\n",
       "      <td>1375000</td>\n",
       "      <td>2017-12-08 00:00:00</td>\n",
       "    </tr>\n",
       "    <tr>\n",
       "      <th>18638</th>\n",
       "      <td>1</td>\n",
       "      <td>WASHINGTON HEIGHTS UPPER</td>\n",
       "      <td>33 EDUCATIONAL FACILITIES</td>\n",
       "      <td>4</td>\n",
       "      <td>2149</td>\n",
       "      <td>23</td>\n",
       "      <td></td>\n",
       "      <td>W2</td>\n",
       "      <td>2495 AMSTERDAM AVENUE</td>\n",
       "      <td></td>\n",
       "      <td>...</td>\n",
       "      <td>0</td>\n",
       "      <td>1</td>\n",
       "      <td>1</td>\n",
       "      <td>29775</td>\n",
       "      <td>253942</td>\n",
       "      <td>1969</td>\n",
       "      <td>4</td>\n",
       "      <td>W2</td>\n",
       "      <td>0</td>\n",
       "      <td>2017-04-21 00:00:00</td>\n",
       "    </tr>\n",
       "    <tr>\n",
       "      <th>18639</th>\n",
       "      <td>1</td>\n",
       "      <td>WASHINGTON HEIGHTS UPPER</td>\n",
       "      <td>33 EDUCATIONAL FACILITIES</td>\n",
       "      <td>4</td>\n",
       "      <td>2156</td>\n",
       "      <td>48</td>\n",
       "      <td></td>\n",
       "      <td>W6</td>\n",
       "      <td>2520 AMSTERDAM AVENUE</td>\n",
       "      <td></td>\n",
       "      <td>...</td>\n",
       "      <td>0</td>\n",
       "      <td>1</td>\n",
       "      <td>1</td>\n",
       "      <td>25875</td>\n",
       "      <td>140260</td>\n",
       "      <td>1967</td>\n",
       "      <td>4</td>\n",
       "      <td>W6</td>\n",
       "      <td>0</td>\n",
       "      <td>2017-04-21 00:00:00</td>\n",
       "    </tr>\n",
       "    <tr>\n",
       "      <th>18640</th>\n",
       "      <td>1</td>\n",
       "      <td>WASHINGTON HEIGHTS UPPER</td>\n",
       "      <td>33 EDUCATIONAL FACILITIES</td>\n",
       "      <td>4</td>\n",
       "      <td>2156</td>\n",
       "      <td>61</td>\n",
       "      <td></td>\n",
       "      <td>W6</td>\n",
       "      <td>515 WEST 185 STREET</td>\n",
       "      <td></td>\n",
       "      <td>...</td>\n",
       "      <td>0</td>\n",
       "      <td>1</td>\n",
       "      <td>1</td>\n",
       "      <td>2700</td>\n",
       "      <td>16262</td>\n",
       "      <td>2007</td>\n",
       "      <td>4</td>\n",
       "      <td>W6</td>\n",
       "      <td>0</td>\n",
       "      <td>2017-08-23 00:00:00</td>\n",
       "    </tr>\n",
       "    <tr>\n",
       "      <th>18641</th>\n",
       "      <td>1</td>\n",
       "      <td>WASHINGTON HEIGHTS UPPER</td>\n",
       "      <td>38 ASYLUMS AND HOMES</td>\n",
       "      <td>4</td>\n",
       "      <td>2156</td>\n",
       "      <td>71</td>\n",
       "      <td></td>\n",
       "      <td>N2</td>\n",
       "      <td>536 W. 187TH STREET</td>\n",
       "      <td></td>\n",
       "      <td>...</td>\n",
       "      <td>0</td>\n",
       "      <td>1</td>\n",
       "      <td>1</td>\n",
       "      <td>1444</td>\n",
       "      <td>3907</td>\n",
       "      <td>1920</td>\n",
       "      <td>4</td>\n",
       "      <td>N2</td>\n",
       "      <td>1100000</td>\n",
       "      <td>2017-09-07 00:00:00</td>\n",
       "    </tr>\n",
       "  </tbody>\n",
       "</table>\n",
       "<p>18642 rows × 21 columns</p>\n",
       "</div>"
      ],
      "text/plain": [
       "      BOROUGH\\n            NEIGHBORHOOD\\n  \\\n",
       "0             1             ALPHABET CITY   \n",
       "1             1             ALPHABET CITY   \n",
       "2             1             ALPHABET CITY   \n",
       "3             1             ALPHABET CITY   \n",
       "4             1             ALPHABET CITY   \n",
       "...         ...                       ...   \n",
       "18637         1  WASHINGTON HEIGHTS UPPER   \n",
       "18638         1  WASHINGTON HEIGHTS UPPER   \n",
       "18639         1  WASHINGTON HEIGHTS UPPER   \n",
       "18640         1  WASHINGTON HEIGHTS UPPER   \n",
       "18641         1  WASHINGTON HEIGHTS UPPER   \n",
       "\n",
       "                         BUILDING CLASS CATEGORY\\n  \\\n",
       "0      07 RENTALS - WALKUP APARTMENTS                \n",
       "1      07 RENTALS - WALKUP APARTMENTS                \n",
       "2      07 RENTALS - WALKUP APARTMENTS                \n",
       "3      07 RENTALS - WALKUP APARTMENTS                \n",
       "4      07 RENTALS - WALKUP APARTMENTS                \n",
       "...                                            ...   \n",
       "18637  32 HOSPITAL AND HEALTH FACILITIES             \n",
       "18638  33 EDUCATIONAL FACILITIES                     \n",
       "18639  33 EDUCATIONAL FACILITIES                     \n",
       "18640  33 EDUCATIONAL FACILITIES                     \n",
       "18641  38 ASYLUMS AND HOMES                          \n",
       "\n",
       "      TAX CLASS AS OF FINAL ROLL 17/18 BLOCK\\n LOT\\n EASE-MENT\\n  \\\n",
       "0                                    2     375    28               \n",
       "1                                    2     385    36               \n",
       "2                                   2A     392     5               \n",
       "3                                   2A     392     6               \n",
       "4                                    2     400    61               \n",
       "...                                ...     ...   ...         ...   \n",
       "18637                                4    2152    47               \n",
       "18638                                4    2149    23               \n",
       "18639                                4    2156    48               \n",
       "18640                                4    2156    61               \n",
       "18641                                4    2156    71               \n",
       "\n",
       "      BUILDING CLASS AS OF FINAL ROLL 17/18              ADDRESS\\n  \\\n",
       "0                                        C4    738 EAST 6TH STREET   \n",
       "1                                        C7            27 AVENUE C   \n",
       "2                                        C2           151 AVENUE B   \n",
       "3                                        C2           153 AVENUE B   \n",
       "4                                        C7  193 EAST 4TH   STREET   \n",
       "...                                     ...                    ...   \n",
       "18637                                    I9  2414 AMSTERDAM AVENUE   \n",
       "18638                                    W2  2495 AMSTERDAM AVENUE   \n",
       "18639                                    W6  2520 AMSTERDAM AVENUE   \n",
       "18640                                    W6    515 WEST 185 STREET   \n",
       "18641                                    N2    536 W. 187TH STREET   \n",
       "\n",
       "      APARTMENT NUMBER\\n  ... RESIDENTIAL UNITS\\n COMMERCIAL UNITS\\n  \\\n",
       "0                         ...                  11                  0   \n",
       "1                         ...                  24                  1   \n",
       "2                         ...                   5                  0   \n",
       "3                         ...                   5                  0   \n",
       "4                         ...                  11                  1   \n",
       "...                  ...  ...                 ...                ...   \n",
       "18637                     ...                   0                  3   \n",
       "18638                     ...                   0                  1   \n",
       "18639                     ...                   0                  1   \n",
       "18640                     ...                   0                  1   \n",
       "18641                     ...                   0                  1   \n",
       "\n",
       "      TOTAL UNITS\\n LAND SQUARE FEET\\n GROSS SQUARE FEET\\n YEAR BUILT\\n  \\\n",
       "0                11               1750                6500         1900   \n",
       "1                25               2650                9960         1910   \n",
       "2                 5               2139                4416         1900   \n",
       "3                 5               1633                6440         1900   \n",
       "4                12               2388                8045         1900   \n",
       "...             ...                ...                 ...          ...   \n",
       "18637             3               2500                3350         1902   \n",
       "18638             1              29775              253942         1969   \n",
       "18639             1              25875              140260         1967   \n",
       "18640             1               2700               16262         2007   \n",
       "18641             1               1444                3907         1920   \n",
       "\n",
       "      TAX CLASS AT TIME OF SALE\\n BUILDING CLASS AT TIME OF SALE\\n  \\\n",
       "0                               2                               C4   \n",
       "1                               2                               C7   \n",
       "2                               2                               C2   \n",
       "3                               2                               C2   \n",
       "4                               2                               C7   \n",
       "...                           ...                              ...   \n",
       "18637                           4                               I9   \n",
       "18638                           4                               W2   \n",
       "18639                           4                               W6   \n",
       "18640                           4                               W6   \n",
       "18641                           4                               N2   \n",
       "\n",
       "      SALE PRICE\\n          SALE DATE\\n  \n",
       "0          3750000  2017-04-03 00:00:00  \n",
       "1          5235000  2017-07-11 00:00:00  \n",
       "2                0  2017-06-16 00:00:00  \n",
       "3          6625000  2017-07-19 00:00:00  \n",
       "4          7675000  2017-11-13 00:00:00  \n",
       "...            ...                  ...  \n",
       "18637      1375000  2017-12-08 00:00:00  \n",
       "18638            0  2017-04-21 00:00:00  \n",
       "18639            0  2017-04-21 00:00:00  \n",
       "18640            0  2017-08-23 00:00:00  \n",
       "18641      1100000  2017-09-07 00:00:00  \n",
       "\n",
       "[18642 rows x 21 columns]"
      ]
     },
     "execution_count": 267,
     "metadata": {},
     "output_type": "execute_result"
    }
   ],
   "source": [
    "dict_sls_2017.get('ann_sales_2017_manhattan.xls')"
   ]
  },
  {
   "cell_type": "markdown",
   "metadata": {},
   "source": [
    "Dropping the first three rows"
   ]
  },
  {
   "cell_type": "code",
   "execution_count": 177,
   "metadata": {},
   "outputs": [],
   "source": [
    "ann_sales_2017_bronx = ann_sales_2017_bronx.drop(ann_sales_2017_bronx.index[:3])"
   ]
  },
  {
   "cell_type": "markdown",
   "metadata": {},
   "source": [
    "Turn the first row into the header"
   ]
  }
 ],
 "metadata": {
  "kernelspec": {
   "display_name": "Python 3",
   "language": "python",
   "name": "python3"
  },
  "language_info": {
   "codemirror_mode": {
    "name": "ipython",
    "version": 3
   },
   "file_extension": ".py",
   "mimetype": "text/x-python",
   "name": "python",
   "nbconvert_exporter": "python",
   "pygments_lexer": "ipython3",
   "version": "3.8.3"
  }
 },
 "nbformat": 4,
 "nbformat_minor": 4
}
