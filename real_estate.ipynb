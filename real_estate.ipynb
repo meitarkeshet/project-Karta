{
 "cells": [
  {
   "cell_type": "markdown",
   "metadata": {},
   "source": [
    "Import packages"
   ]
  },
  {
   "cell_type": "code",
   "execution_count": 2,
   "metadata": {},
   "outputs": [],
   "source": [
    "import pandas as pd\n",
    "import numpy as np\n",
    "# for moving around libraries \n",
    "import os \n",
    "# for visualizing \n",
    "import matplotlib.pyplot as plt\n",
    "import seaborn as sns\n",
    "# for finding word \n",
    "import re"
   ]
  },
  {
   "cell_type": "markdown",
   "metadata": {},
   "source": [
    "# Summaries of Neighborhood and Citywide Annual Sales sorted by borough and neighborhood\n",
    "### src: https://www1.nyc.gov/site/finance/taxes/property-annualized-sales-update.page"
   ]
  },
  {
   "cell_type": "code",
   "execution_count": 110,
   "metadata": {},
   "outputs": [],
   "source": [
    "# move to correct directory (NOTICE problems on git?)\n",
    "os.chdir(\"C:/Users/meita/Documents/GitHub/project-Karta/Data/sales_data\")"
   ]
  },
  {
   "cell_type": "markdown",
   "metadata": {},
   "source": [
    "In order to open the excel files we'll use the following library"
   ]
  },
  {
   "cell_type": "code",
   "execution_count": 112,
   "metadata": {},
   "outputs": [],
   "source": [
    "#!pip install xlrd"
   ]
  },
  {
   "cell_type": "markdown",
   "metadata": {},
   "source": [
    "Check xls encoding value to be able to read it with python"
   ]
  },
  {
   "cell_type": "markdown",
   "metadata": {},
   "source": [
    "# Extract, transform, load (ETL)"
   ]
  },
  {
   "cell_type": "markdown",
   "metadata": {},
   "source": [
    "## Extract"
   ]
  },
  {
   "cell_type": "markdown",
   "metadata": {},
   "source": [
    "Let's see all the sales data we collected"
   ]
  },
  {
   "cell_type": "code",
   "execution_count": 113,
   "metadata": {},
   "outputs": [
    {
     "name": "stdout",
     "output_type": "stream",
     "text": [
      "2009_bronx.xls\n",
      "2009_brooklyn.xls\n",
      "2009_manhattan.xls\n",
      "2009_queens.xls\n",
      "2009_statenisland.xls\n",
      "2010_bronx.xls\n",
      "2010_brooklyn.xls\n",
      "2010_manhattan.xls\n",
      "2010_queens.xls\n",
      "2010_statenisland.xls\n",
      "2011_bronx.xls\n",
      "2011_brooklyn.xls\n",
      "2011_manhattan.xls\n",
      "2011_queens.xls\n",
      "2011_statenisland.xls\n",
      "2012_bronx.xls\n",
      "2012_brooklyn.xls\n",
      "2012_manhattan.xls\n",
      "2012_queens.xls\n",
      "2012_statenisland.xls\n",
      "2013_bronx.xls\n",
      "2013_brooklyn.xls\n",
      "2013_manhattan.xls\n",
      "2013_queens.xls\n",
      "2013_statenisland.xls\n",
      "2014_bronx.xls\n",
      "2014_brooklyn.xls\n",
      "2014_manhattan.xls\n",
      "2014_queens.xls\n",
      "2014_statenisland.xls\n",
      "2015_bronx.xls\n",
      "2015_brooklyn.xls\n",
      "2015_manhattan.xls\n",
      "2015_queens.xls\n",
      "2015_statenisland.xls\n",
      "2016_bronx.xls\n",
      "2016_brooklyn.xls\n",
      "2016_manhattan.xls\n",
      "2016_queens.xls\n",
      "2016_statenisland.xls\n",
      "2017_bronx.xls\n",
      "2017_brooklyn.xls\n",
      "2017_manhattan.xls\n",
      "2017_queens.xls\n",
      "2017_statenisland.xls\n",
      "2018_bronx.xlsx\n",
      "2018_brooklyn.xlsx\n",
      "2018_manhattan.xlsx\n",
      "2018_queens.xlsx\n",
      "2018_statenisland.xlsx\n",
      "2019_bronx.xlsx\n",
      "2019_brooklyn.xlsx\n",
      "2019_manhattan.xlsx\n",
      "2019_queens.xlsx\n",
      "2019_statenisland.xlsx\n",
      "sales_2007_bronx.xls\n",
      "sales_2007_brooklyn.xls\n",
      "sales_2007_manhattan.xls\n",
      "sales_2007_queens.xls\n",
      "sales_2007_statenisland.xls\n",
      "sales_2008_bronx.xls\n",
      "sales_2008_brooklyn.xls\n",
      "sales_2008_manhattan.xls\n",
      "sales_2008_queens.xls\n",
      "sales_2008_statenisland.xls\n",
      "sales_bronx_03.xls\n",
      "sales_bronx_04.xls\n",
      "sales_bronx_05.xls\n",
      "sales_bronx_06.xls\n",
      "sales_brooklyn_03.xls\n",
      "sales_brooklyn_04.xls\n",
      "sales_brooklyn_05.xls\n",
      "sales_brooklyn_06.xls\n",
      "sales_manhattan_03.xls\n",
      "sales_manhattan_04.xls\n",
      "sales_manhattan_05.xls\n",
      "sales_manhattan_06.xls\n",
      "sales_queens_03.xls\n",
      "sales_queens_04.xls\n",
      "sales_queens_05.xls\n",
      "sales_queens_06.xls\n",
      "sales_si_03.xls\n",
      "sales_si_04.xls\n",
      "sales_si_05.xls\n",
      "sales_si_06.xls\n"
     ]
    }
   ],
   "source": [
    "path = 'C:/Users/meita/Documents/GitHub/project-Karta/Data/sales_data'\n",
    "files = os.listdir(path)\n",
    "for f in files:\n",
    "\tprint(f)"
   ]
  },
  {
   "cell_type": "markdown",
   "metadata": {},
   "source": [
    "We can assume that the way the name of the file is formetted has an impact on the way the data is stractured inside (e.g sales_brooklyn_03 is probably different than 2017_brooklyn but not as different then sales_brooklyn_05.\n"
   ]
  },
  {
   "cell_type": "markdown",
   "metadata": {},
   "source": [
    "To select only certain files that we assume would be alike, we'll import glob"
   ]
  },
  {
   "cell_type": "code",
   "execution_count": 114,
   "metadata": {},
   "outputs": [],
   "source": [
    "import glob"
   ]
  },
  {
   "cell_type": "markdown",
   "metadata": {},
   "source": [
    "### 2017"
   ]
  },
  {
   "cell_type": "markdown",
   "metadata": {},
   "source": [
    "Let's save all files from 2017 to the same list"
   ]
  },
  {
   "cell_type": "code",
   "execution_count": 115,
   "metadata": {},
   "outputs": [
    {
     "name": "stdout",
     "output_type": "stream",
     "text": [
      "['2017_bronx.xls', '2017_brooklyn.xls', '2017_manhattan.xls', '2017_queens.xls', '2017_statenisland.xls']\n"
     ]
    }
   ],
   "source": [
    "sls_2017 = [file for file in glob.glob(\"2017_*\")]\n",
    "print(sls_2017)"
   ]
  },
  {
   "cell_type": "markdown",
   "metadata": {},
   "source": [
    "And we'll do same thing for every other year following the 2017 standart (presumably)"
   ]
  },
  {
   "cell_type": "code",
   "execution_count": 116,
   "metadata": {},
   "outputs": [],
   "source": [
    "sls_2009 = [file for file in glob.glob(\"2009_*\")]\n",
    "sls_2010 = [file for file in glob.glob(\"2010_*\")]\n",
    "sls_2011 = [file for file in glob.glob(\"2011_*\")]\n",
    "sls_2012 = [file for file in glob.glob(\"2012_*\")]\n",
    "sls_2013 = [file for file in glob.glob(\"2013_*\")]\n",
    "sls_2014 = [file for file in glob.glob(\"2014_*\")]\n",
    "sls_2015 = [file for file in glob.glob(\"2015_*\")]\n",
    "sls_2016 = [file for file in glob.glob(\"2016_*\")]\n",
    "# we already have 2017\n",
    "sls_2018 = [file for file in glob.glob(\"2018_*\")]\n",
    "sls_2019 = [file for file in glob.glob(\"2019_*\")]"
   ]
  },
  {
   "cell_type": "markdown",
   "metadata": {},
   "source": [
    "Because we are dealing with excel files (and not csv for example) we need to make sure the file encoding is fitting the way that we open the file."
   ]
  },
  {
   "cell_type": "code",
   "execution_count": 117,
   "metadata": {},
   "outputs": [
    {
     "data": {
      "text/plain": [
       "'cp65001'"
      ]
     },
     "execution_count": 117,
     "metadata": {},
     "output_type": "execute_result"
    }
   ],
   "source": [
    "def df_encoding(file):\n",
    "    with open(f\"./{file}\") as f:\n",
    "        return(f.encoding)\n",
    "df_encoding(sls_2017[0])"
   ]
  },
  {
   "cell_type": "markdown",
   "metadata": {},
   "source": [
    "Giving each DataFrame variable a standertized name"
   ]
  },
  {
   "cell_type": "code",
   "execution_count": 118,
   "metadata": {},
   "outputs": [
    {
     "data": {
      "text/plain": [
       "'ann_sales_2017_bronx'"
      ]
     },
     "execution_count": 118,
     "metadata": {},
     "output_type": "execute_result"
    }
   ],
   "source": [
    "def df_var_name(file):\n",
    "    file_name = file\n",
    "    file_var_name = \"ann_sales_{tmp_file_name}\" \n",
    "    return(file_var_name.format(tmp_file_name =re.findall('.*(?=\\.)', file_name)[0] ))\n",
    "\n",
    "df_var_name(sls_2017[0])"
   ]
  },
  {
   "cell_type": "markdown",
   "metadata": {},
   "source": [
    "Taking a file name and returning a DataFrame "
   ]
  },
  {
   "cell_type": "code",
   "execution_count": 121,
   "metadata": {},
   "outputs": [],
   "source": [
    "def df_extract(file_name):\n",
    "    file = file_name\n",
    "    x = pd.read_excel(f\"./{file}\", \n",
    "                     header=0, \n",
    "                     infer_datetime_format=True,\n",
    "                     encoding=df_encoding(file_name))\n",
    "    return(x)"
   ]
  },
  {
   "cell_type": "markdown",
   "metadata": {},
   "source": [
    "Take a list of excel files and return a dictonary containing each file as a data frame "
   ]
  },
  {
   "cell_type": "code",
   "execution_count": 122,
   "metadata": {},
   "outputs": [],
   "source": [
    "def df_import(lst_of_files):\n",
    "        df_dict = {df_var_name(name): df_extract(name) for name in lst_of_files}\n",
    "        return(df_dict)"
   ]
  },
  {
   "cell_type": "markdown",
   "metadata": {},
   "source": [
    "For each year, create a dictionnary containing the a DataFram for each Borough in NYC"
   ]
  },
  {
   "cell_type": "markdown",
   "metadata": {},
   "source": [
    "2017"
   ]
  },
  {
   "cell_type": "code",
   "execution_count": 123,
   "metadata": {},
   "outputs": [],
   "source": [
    "dict_sls_2017 = df_import(sls_2017)"
   ]
  },
  {
   "cell_type": "markdown",
   "metadata": {},
   "source": [
    "The rest of the years"
   ]
  },
  {
   "cell_type": "code",
   "execution_count": 124,
   "metadata": {},
   "outputs": [],
   "source": [
    "dict_sls_2009 = df_import(sls_2009)\n",
    "dict_sls_2010 = df_import(sls_2010)\n",
    "dict_sls_2011 = df_import(sls_2011)\n",
    "dict_sls_2012 = df_import(sls_2012)\n",
    "dict_sls_2013 = df_import(sls_2013)\n",
    "dict_sls_2014 = df_import(sls_2014)\n",
    "dict_sls_2015 = df_import(sls_2015)\n",
    "dict_sls_2016 = df_import(sls_2016)\n",
    "# 2017 we have\n",
    "dict_sls_2018 = df_import(sls_2018)\n",
    "dict_sls_2019 = df_import(sls_2019)"
   ]
  },
  {
   "cell_type": "markdown",
   "metadata": {},
   "source": [
    "## Clean"
   ]
  },
  {
   "cell_type": "markdown",
   "metadata": {},
   "source": [
    "See the keys in a dictionary "
   ]
  },
  {
   "cell_type": "code",
   "execution_count": 125,
   "metadata": {},
   "outputs": [
    {
     "data": {
      "text/plain": [
       "dict_keys(['ann_sales_2017_bronx', 'ann_sales_2017_brooklyn', 'ann_sales_2017_manhattan', 'ann_sales_2017_queens', 'ann_sales_2017_statenisland'])"
      ]
     },
     "execution_count": 125,
     "metadata": {},
     "output_type": "execute_result"
    }
   ],
   "source": [
    "dict_sls_2017.keys()"
   ]
  },
  {
   "cell_type": "markdown",
   "metadata": {},
   "source": [
    "### 2017 Format"
   ]
  },
  {
   "cell_type": "markdown",
   "metadata": {},
   "source": [
    "Takes a key and dictionary of DF's and returns single DataFrame (value of key)"
   ]
  },
  {
   "cell_type": "code",
   "execution_count": 126,
   "metadata": {},
   "outputs": [],
   "source": [
    "def df_2017_std_return_value(key, dicto): \n",
    "    return(dicto.get(key))"
   ]
  },
  {
   "cell_type": "markdown",
   "metadata": {},
   "source": [
    "Takes a single dataFrame and cleans it according to the 2017 excel file standart "
   ]
  },
  {
   "cell_type": "code",
   "execution_count": 127,
   "metadata": {},
   "outputs": [],
   "source": [
    "def df_cln_2017_std(df_to_cln): \n",
    "    df_clnd = df_to_cln # copy the dataFrame we want to clean into a new DF\n",
    "    df_clnd = df_clnd.drop(df_clnd.index[:3]) # drop the first three rows\n",
    "    new_header = df_clnd.iloc[0] #grab the first row for the header\n",
    "    df_clnd = df_clnd[1:] #take the data less the header row\n",
    "    df_clnd.columns = new_header #set the header row as the df header\n",
    "    df_clnd = df_clnd.reset_index(level=0, inplace=False) # reset the index (after removing the first - now 4 - rows)\n",
    "    df_clnd = df_clnd.drop(columns=['index']) # drop the column with the name \"index\" (which is the old index before reset)\n",
    "    df_clnd = df_clnd.rename_axis('', axis='columns') # remove row number falsely used as column name\n",
    "    df_clnd.columns = df_clnd.columns.str.replace('\\n', '', regex=True) # remove '\\n' in column names\n",
    "    return(df_clnd)\n",
    "\n",
    "# The 2009 format drop 2 rows instead of 3 (in the 2017 format)\n",
    "def df_cln_2009_std(df_to_cln): \n",
    "    df_clnd = df_to_cln # copy the dataFrame we want to clean into a new DF\n",
    "    df_clnd = df_clnd.drop(df_clnd.index[:2]) # drop the first three rows <------------------------- the difference is here\n",
    "    new_header = df_clnd.iloc[0] #grab the first row for the header\n",
    "    df_clnd = df_clnd[1:] #take the data less the header row\n",
    "    df_clnd.columns = new_header #set the header row as the df header\n",
    "    df_clnd = df_clnd.reset_index(level=0, inplace=False) # reset the index (after removing the first - now 4 - rows)\n",
    "    df_clnd = df_clnd.drop(columns=['index']) # drop the column with the name \"index\" (which is the old index before reset)\n",
    "    df_clnd = df_clnd.rename_axis('', axis='columns') # remove row number falsely used as column name\n",
    "    df_clnd.columns = df_clnd.columns.str.replace('\\n', '', regex=True) # remove '\\n' in column names\n",
    "    return(df_clnd)"
   ]
  },
  {
   "cell_type": "markdown",
   "metadata": {},
   "source": [
    "Takes a dictionary of 'dirty' DataFrames and return the dictionary cleaned "
   ]
  },
  {
   "cell_type": "code",
   "execution_count": 128,
   "metadata": {},
   "outputs": [],
   "source": [
    "def dct_of_df_clnr_2017(dict_to_cln):\n",
    "    return ({key: df_cln_2017_std(df_2017_std_return_value(key, dict_to_cln)) for key in (list(dict_to_cln.keys()))})\n",
    "\n",
    "# The years 2009 and 2010 follow a slightly different format \n",
    "\n",
    "def dct_of_df_clnr_2009(dict_to_cln):\n",
    "    return ({key: df_cln_2009_std(df_2017_std_return_value(key, dict_to_cln)) for key in (list(dict_to_cln.keys()))})"
   ]
  },
  {
   "cell_type": "markdown",
   "metadata": {},
   "source": [
    "### Update dictionaries of DataFrames"
   ]
  },
  {
   "cell_type": "markdown",
   "metadata": {},
   "source": [
    "2017"
   ]
  },
  {
   "cell_type": "code",
   "execution_count": 129,
   "metadata": {},
   "outputs": [],
   "source": [
    "dict_sls_2017.update(dct_of_df_clnr_2017(dict_sls_2017))"
   ]
  },
  {
   "cell_type": "markdown",
   "metadata": {},
   "source": [
    "the rest of the years that follow the 2017 format"
   ]
  },
  {
   "cell_type": "code",
   "execution_count": 130,
   "metadata": {},
   "outputs": [],
   "source": [
    "dict_sls_2011.update(dct_of_df_clnr_2017(dict_sls_2011))\n",
    "dict_sls_2012.update(dct_of_df_clnr_2017(dict_sls_2012))\n",
    "dict_sls_2013.update(dct_of_df_clnr_2017(dict_sls_2013))\n",
    "dict_sls_2014.update(dct_of_df_clnr_2017(dict_sls_2014))\n",
    "dict_sls_2015.update(dct_of_df_clnr_2017(dict_sls_2015))\n",
    "dict_sls_2016.update(dct_of_df_clnr_2017(dict_sls_2016))\n",
    "# 2017 we have\n",
    "dict_sls_2018.update(dct_of_df_clnr_2017(dict_sls_2018))\n",
    "dict_sls_2019.update(dct_of_df_clnr_2017(dict_sls_2019))"
   ]
  },
  {
   "cell_type": "markdown",
   "metadata": {},
   "source": [
    "2009 format"
   ]
  },
  {
   "cell_type": "code",
   "execution_count": 131,
   "metadata": {},
   "outputs": [],
   "source": [
    "dict_sls_2009.update(dct_of_df_clnr_2009(dict_sls_2009))\n",
    "dict_sls_2010.update(dct_of_df_clnr_2009(dict_sls_2010))"
   ]
  },
  {
   "cell_type": "code",
   "execution_count": 132,
   "metadata": {},
   "outputs": [],
   "source": [
    "#dict_sls_2010.get('ann_sales_2010_manhattan.xls')"
   ]
  },
  {
   "cell_type": "code",
   "execution_count": 133,
   "metadata": {},
   "outputs": [],
   "source": [
    "#dict_sls_2018"
   ]
  },
  {
   "cell_type": "markdown",
   "metadata": {},
   "source": [
    "## Load"
   ]
  },
  {
   "cell_type": "markdown",
   "metadata": {},
   "source": [
    "The data base architecture will be as such:\n",
    "Every topic get's a different Database"
   ]
  },
  {
   "cell_type": "markdown",
   "metadata": {},
   "source": [
    "import libraries "
   ]
  },
  {
   "cell_type": "code",
   "execution_count": 134,
   "metadata": {},
   "outputs": [],
   "source": [
    "# in order to not expose our password we will use 'getpass'\n",
    "import getpass\n",
    "# To connect to mysql use:\n",
    "from sqlalchemy import create_engine"
   ]
  },
  {
   "cell_type": "markdown",
   "metadata": {},
   "source": [
    "Connect to my local SQL server"
   ]
  },
  {
   "cell_type": "code",
   "execution_count": 73,
   "metadata": {},
   "outputs": [
    {
     "name": "stdin",
     "output_type": "stream",
     "text": [
      " ·············\n"
     ]
    }
   ],
   "source": [
    "hostname = \"localhost\"\n",
    "username = \"root\"\n",
    "password = getpass.getpass()\n",
    "database = \"karta\"\n",
    "engine = create_engine(f\"mysql+pymysql://{username}:{password}@{hostname}/{database}\")"
   ]
  },
  {
   "cell_type": "markdown",
   "metadata": {},
   "source": [
    "Assign a name for our Database."
   ]
  },
  {
   "cell_type": "code",
   "execution_count": 74,
   "metadata": {},
   "outputs": [],
   "source": [
    "db_name = 'Karta'"
   ]
  },
  {
   "cell_type": "markdown",
   "metadata": {},
   "source": [
    "Create a databese"
   ]
  },
  {
   "cell_type": "code",
   "execution_count": 75,
   "metadata": {},
   "outputs": [],
   "source": [
    "from sqlalchemy.sql import text\n",
    "with engine.connect() as con:\n",
    "    rs = con.execute(\"CREATE DATABASE IF NOT EXISTS {} \".format(db_name)) "
   ]
  },
  {
   "cell_type": "markdown",
   "metadata": {},
   "source": [
    "The function takes a dictionary of dataFrames and loads each df as a table into the mySQL Date Base."
   ]
  },
  {
   "cell_type": "code",
   "execution_count": 136,
   "metadata": {},
   "outputs": [],
   "source": [
    "def dct_of_df_to_mysql(dict_to_load):\n",
    "    dict_keys = list(dict_to_load.keys())\n",
    "    dict_values = list(dict_to_load.values())\n",
    "    #print (list((range(len(dict_to_load)))))\n",
    "    [dict_values[i].to_sql(dict_keys[i], engine, index=False, if_exists='replace') for i in list(range(len(dict_to_load)))]"
   ]
  },
  {
   "cell_type": "markdown",
   "metadata": {},
   "source": [
    "Push our dictonary of DataFrames into the DataBase"
   ]
  },
  {
   "cell_type": "markdown",
   "metadata": {},
   "source": [
    "2017"
   ]
  },
  {
   "cell_type": "code",
   "execution_count": 137,
   "metadata": {},
   "outputs": [],
   "source": [
    "dct_of_df_to_mysql(dict_sls_2017)"
   ]
  },
  {
   "cell_type": "markdown",
   "metadata": {},
   "source": [
    "Rest of the years"
   ]
  },
  {
   "cell_type": "code",
   "execution_count": 138,
   "metadata": {},
   "outputs": [],
   "source": [
    "dct_of_df_to_mysql(dict_sls_2009)\n",
    "dct_of_df_to_mysql(dict_sls_2010)\n",
    "dct_of_df_to_mysql(dict_sls_2011)\n",
    "dct_of_df_to_mysql(dict_sls_2012)\n",
    "dct_of_df_to_mysql(dict_sls_2013)\n",
    "dct_of_df_to_mysql(dict_sls_2014)\n",
    "dct_of_df_to_mysql(dict_sls_2015)\n",
    "dct_of_df_to_mysql(dict_sls_2016)\n",
    "# 2017 we have\n",
    "dct_of_df_to_mysql(dict_sls_2018)\n",
    "dct_of_df_to_mysql(dict_sls_2019)"
   ]
  },
  {
   "cell_type": "markdown",
   "metadata": {},
   "source": [
    "# Energy and Water Data Disclosure for Local Law 84  "
   ]
  },
  {
   "cell_type": "markdown",
   "metadata": {},
   "source": [
    "## from NYC Open data\n",
    "### src: https://data.cityofnewyork.us/browse?q=Energy%20and%20Water%20Data%20Disclosure%20for%20Local%20Law%2084%202012%20(Data%20for%20Calendar%20Year%202011)&sortBy=relevance"
   ]
  },
  {
   "cell_type": "markdown",
   "metadata": {},
   "source": [
    "In September 2012, New York City released the 2011 energy and water use data for all properties required to annually benchmark under Local Law 84.\n",
    "NOTICE (!) the data is collected only for buildings over 50,000 sqr ft"
   ]
  },
  {
   "cell_type": "markdown",
   "metadata": {},
   "source": [
    "# Extract, transform, load (ETL)"
   ]
  },
  {
   "cell_type": "markdown",
   "metadata": {},
   "source": [
    "## Extract"
   ]
  },
  {
   "cell_type": "code",
   "execution_count": 3,
   "metadata": {},
   "outputs": [],
   "source": [
    "# move to correct directory (NOTICE problems on git?)\n",
    "os.chdir(\"C:/Users/meita/Documents/GitHub/project-Karta/Data/energy_water_consumption\")"
   ]
  },
  {
   "cell_type": "markdown",
   "metadata": {},
   "source": [
    "Here are the files we collected:"
   ]
  },
  {
   "cell_type": "code",
   "execution_count": 45,
   "metadata": {},
   "outputs": [
    {
     "name": "stdout",
     "output_type": "stream",
     "text": [
      "Energy_and_Water_Data_Disclosure_for_Local_Law_84_2012__Data_for_Calendar_Year_2011_.csv\n",
      "Energy_and_Water_Data_Disclosure_for_Local_Law_84_2013__Data_for_Calendar_Year_2012_.csv\n",
      "Energy_and_Water_Data_Disclosure_for_Local_Law_84_2014__Data_for_Calendar_Year_2013_.csv\n",
      "Energy_and_Water_Data_Disclosure_for_Local_Law_84_2015__Data_for_Calendar_Year_2014_.csv\n",
      "Energy_and_Water_Data_Disclosure_for_Local_Law_84_2016__Data_for_Calendar_Year_2015_.csv\n",
      "Energy_and_Water_Data_Disclosure_for_Local_Law_84_2017__Data_for_Calendar_Year_2016_.csv\n",
      "Energy_and_Water_Data_Disclosure_for_Local_Law_84_2018__Data_for_Calendar_Year_2017_.csv\n",
      "Energy_and_Water_Data_Disclosure_for_Local_Law_84_2019__Data_for_Calendar_Year_2018_.csv\n",
      "Energy_and_Water_Data_Disclosure_for_Local_Law_84_2020__Data_for_Calendar_Year_2019_.csv\n"
     ]
    }
   ],
   "source": [
    "path = 'C:/Users/meita/Documents/GitHub/project-Karta/Data/energy_water_consumption'\n",
    "files = os.listdir(path)\n",
    "for f in files:\n",
    "\tprint(f)"
   ]
  },
  {
   "cell_type": "markdown",
   "metadata": {},
   "source": [
    "gets a a file name (with prefix) and returns a standartaized variable name  "
   ]
  },
  {
   "cell_type": "code",
   "execution_count": 46,
   "metadata": {},
   "outputs": [
    {
     "name": "stdout",
     "output_type": "stream",
     "text": [
      "Energy_and_Water_Data_Disclosure_for_Local_Law_84_2012__Data_for_Calendar_Year_2011_.csv\n"
     ]
    },
    {
     "data": {
      "text/plain": [
       "'ann_cnsmptn_wtr_nrg_2011'"
      ]
     },
     "execution_count": 46,
     "metadata": {},
     "output_type": "execute_result"
    }
   ],
   "source": [
    "def df_var_name_wtr_nrg(file):\n",
    "    file_name = file\n",
    "    print(file_name)\n",
    "    file_var_name = \"ann_cnsmptn_wtr_nrg_{file_year}\" \n",
    "    return(file_var_name.format(file_year =re.findall('(?<=Year_).+?(?=.\\.)', file_name)[0] ))\n",
    "df_var_name_water(files[0])"
   ]
  },
  {
   "cell_type": "markdown",
   "metadata": {},
   "source": [
    "Takes a csv file and returns it as a dataFrame"
   ]
  },
  {
   "cell_type": "code",
   "execution_count": 47,
   "metadata": {},
   "outputs": [],
   "source": [
    "def df_extract_csv(file_name):\n",
    "    file = file_name\n",
    "    x =  pd.read_csv(f\"./{file}\", \n",
    "                     header=0, \n",
    "                     infer_datetime_format=True,\n",
    "                     low_memory=False)\n",
    "    return(x)"
   ]
  },
  {
   "cell_type": "markdown",
   "metadata": {},
   "source": [
    "Takes a list of files and returns a dictionary with tuples of (standertized variable name : data frame)"
   ]
  },
  {
   "cell_type": "code",
   "execution_count": 48,
   "metadata": {},
   "outputs": [],
   "source": [
    "def df_import_wtr_nrg(lst_of_files):\n",
    "        df_dict = {df_var_name_wtr_nrg(name): df_extract_csv(name) for name in lst_of_files}\n",
    "        return(df_dict)"
   ]
  },
  {
   "cell_type": "code",
   "execution_count": 49,
   "metadata": {},
   "outputs": [
    {
     "name": "stdout",
     "output_type": "stream",
     "text": [
      "Energy_and_Water_Data_Disclosure_for_Local_Law_84_2012__Data_for_Calendar_Year_2011_.csv\n",
      "Energy_and_Water_Data_Disclosure_for_Local_Law_84_2013__Data_for_Calendar_Year_2012_.csv\n",
      "Energy_and_Water_Data_Disclosure_for_Local_Law_84_2014__Data_for_Calendar_Year_2013_.csv\n",
      "Energy_and_Water_Data_Disclosure_for_Local_Law_84_2015__Data_for_Calendar_Year_2014_.csv\n",
      "Energy_and_Water_Data_Disclosure_for_Local_Law_84_2016__Data_for_Calendar_Year_2015_.csv\n",
      "Energy_and_Water_Data_Disclosure_for_Local_Law_84_2017__Data_for_Calendar_Year_2016_.csv\n",
      "Energy_and_Water_Data_Disclosure_for_Local_Law_84_2018__Data_for_Calendar_Year_2017_.csv\n",
      "Energy_and_Water_Data_Disclosure_for_Local_Law_84_2019__Data_for_Calendar_Year_2018_.csv\n",
      "Energy_and_Water_Data_Disclosure_for_Local_Law_84_2020__Data_for_Calendar_Year_2019_.csv\n"
     ]
    }
   ],
   "source": [
    "dict_wtr_nrg = df_import_wtr_nrg(files)"
   ]
  },
  {
   "cell_type": "markdown",
   "metadata": {},
   "source": [
    "## Transform / clean"
   ]
  },
  {
   "cell_type": "code",
   "execution_count": 99,
   "metadata": {},
   "outputs": [],
   "source": [
    "def df_cln_wtr_nrg(df_to_cln): \n",
    "    df_clnd = df_to_cln # copy the dataFrame we want to clean into a new DF\n",
    "    if 'Order' in df_clnd.columns: # remove the 'Order' column that's found in years 2019,2018\n",
    "        del df_clnd['Order']\n",
    "    df_clnd.columns = df_clnd.columns.str.strip() # remove spaces at the end of a column's name\n",
    "    return(df_clnd)"
   ]
  },
  {
   "cell_type": "markdown",
   "metadata": {},
   "source": [
    "Takes a dictionary of 'dirty' DataFrames and return the dictionary cleaned "
   ]
  },
  {
   "cell_type": "code",
   "execution_count": 100,
   "metadata": {},
   "outputs": [],
   "source": [
    "def dct_of_df_clnr_wtr_nrg(dict_to_cln):\n",
    "    return ({key: df_cln_wtr_nrg(df_2017_std_return_value(key, dict_to_cln)) for key in (list(dict_to_cln.keys()))})"
   ]
  },
  {
   "cell_type": "code",
   "execution_count": 101,
   "metadata": {},
   "outputs": [],
   "source": [
    "dict_wtr_nrg.update(dct_of_df_clnr_wtr_nrg(dict_wtr_nrg))"
   ]
  },
  {
   "cell_type": "code",
   "execution_count": 105,
   "metadata": {},
   "outputs": [],
   "source": [
    "#dict_wtr_nrg.get('ann_cnsmptn_wtr_nrg_2011')"
   ]
  },
  {
   "cell_type": "code",
   "execution_count": 63,
   "metadata": {},
   "outputs": [],
   "source": [
    "#engine.execute(select([table])).fetchall()"
   ]
  },
  {
   "cell_type": "markdown",
   "metadata": {},
   "source": [
    "## Load"
   ]
  },
  {
   "cell_type": "markdown",
   "metadata": {},
   "source": [
    "Takes a dictionary of dataFrames and pushes it into mySQL as seperate tables"
   ]
  },
  {
   "cell_type": "code",
   "execution_count": 103,
   "metadata": {},
   "outputs": [],
   "source": [
    "dct_of_df_to_mysql(dict_wtr_nrg)"
   ]
  },
  {
   "cell_type": "markdown",
   "metadata": {},
   "source": [
    "# Energy Efficiency Completed Projects: Beginning 1987"
   ]
  },
  {
   "cell_type": "markdown",
   "metadata": {},
   "source": [
    "## from DATA.NY.GOV\n",
    "### src: https://data.ny.gov/Energy-Environment/Energy-Efficiency-Completed-Projects-Beginning-198/erjw-j2zx"
   ]
  },
  {
   "cell_type": "markdown",
   "metadata": {},
   "source": [
    "The Energy Efficiency programs of the New York Power Authority provide energy-efficiency improvements, with no up-front costs, to public schools and other government facilities. From start to finish, the Power Authority works with facility managers to identify, design and install new lighting and motors, as well as upgrades to heating, ventilation and air-conditioning systems. We try to address all energy efficiency improvements in a single, comprehensive effort. This data set contains information on energy efficiency projects completed since 1987. The data set is updated in a quarterly basis to reflect new data as projects are implemented. The information includes project location, customer name, project name, total cost, and energy efficiency benefits, including energy reduction (electric, natural gas, oil) and greenhouse gas emissions reductions."
   ]
  },
  {
   "cell_type": "markdown",
   "metadata": {},
   "source": [
    "## Extract"
   ]
  },
  {
   "cell_type": "code",
   "execution_count": 140,
   "metadata": {},
   "outputs": [],
   "source": [
    "ann_nrg_efficiency_cmpltd_projcts =  pd.read_csv(f\"C:/Users/meita/Documents/GitHub/project-Karta/Data/Energy_Efficiency_Completed_Projects__Beginning_1987.csv\", \n",
    "                     header=0, \n",
    "                     infer_datetime_format=True,\n",
    "                     low_memory=False)"
   ]
  },
  {
   "cell_type": "code",
   "execution_count": 141,
   "metadata": {},
   "outputs": [
    {
     "data": {
      "text/html": [
       "<div>\n",
       "<style scoped>\n",
       "    .dataframe tbody tr th:only-of-type {\n",
       "        vertical-align: middle;\n",
       "    }\n",
       "\n",
       "    .dataframe tbody tr th {\n",
       "        vertical-align: top;\n",
       "    }\n",
       "\n",
       "    .dataframe thead th {\n",
       "        text-align: right;\n",
       "    }\n",
       "</style>\n",
       "<table border=\"1\" class=\"dataframe\">\n",
       "  <thead>\n",
       "    <tr style=\"text-align: right;\">\n",
       "      <th></th>\n",
       "      <th>Year completed</th>\n",
       "      <th>Date Completed</th>\n",
       "      <th>Project Code</th>\n",
       "      <th>Project Name</th>\n",
       "      <th>Regional Economic Development Council</th>\n",
       "      <th>NYISO Zone</th>\n",
       "      <th>NY State County</th>\n",
       "      <th>NY Region</th>\n",
       "      <th>Customer</th>\n",
       "      <th>Agency</th>\n",
       "      <th>...</th>\n",
       "      <th>Coal Savings (Tons)</th>\n",
       "      <th>Equivalent Barrels of Oil Saved</th>\n",
       "      <th>Reduction in Greenhouse Gas Emissions (Tons)</th>\n",
       "      <th>Renewable Energy (KW)</th>\n",
       "      <th>Address</th>\n",
       "      <th>Address Ext</th>\n",
       "      <th>City</th>\n",
       "      <th>State</th>\n",
       "      <th>Zip</th>\n",
       "      <th>Project or Program description</th>\n",
       "    </tr>\n",
       "  </thead>\n",
       "  <tbody>\n",
       "    <tr>\n",
       "      <th>0</th>\n",
       "      <td>2020</td>\n",
       "      <td>09/18/2020</td>\n",
       "      <td>ES-GSN-0822</td>\n",
       "      <td>NYCT - Manhattanville Bus Depot - Component Re...</td>\n",
       "      <td>New York City</td>\n",
       "      <td>J - New York City</td>\n",
       "      <td>NEW YORK</td>\n",
       "      <td>Southeastern</td>\n",
       "      <td>MTA - Metropolitan Transportation Authority</td>\n",
       "      <td>MTA - New York City Transit Authority</td>\n",
       "      <td>...</td>\n",
       "      <td>0.0</td>\n",
       "      <td>11662.74000</td>\n",
       "      <td>2585.361000</td>\n",
       "      <td>0.0</td>\n",
       "      <td>666 West 133rd St</td>\n",
       "      <td>NaN</td>\n",
       "      <td>New York</td>\n",
       "      <td>NY</td>\n",
       "      <td>10027</td>\n",
       "      <td>Energy Efficiency upgrades at the Manhattanvil...</td>\n",
       "    </tr>\n",
       "    <tr>\n",
       "      <th>1</th>\n",
       "      <td>2020</td>\n",
       "      <td>09/03/2020</td>\n",
       "      <td>ES-GSN-0851</td>\n",
       "      <td>CUNY - Multiple Sites - Sub-Metering Phase 2</td>\n",
       "      <td>New York City</td>\n",
       "      <td>J - New York City</td>\n",
       "      <td>NEW YORK</td>\n",
       "      <td>Southeastern</td>\n",
       "      <td>CITY UNIVERSITY OF NEW YORK</td>\n",
       "      <td>City University of New York</td>\n",
       "      <td>...</td>\n",
       "      <td>0.0</td>\n",
       "      <td>847.91720</td>\n",
       "      <td>128.001900</td>\n",
       "      <td>0.0</td>\n",
       "      <td>2900 Bedford Ave</td>\n",
       "      <td>NaN</td>\n",
       "      <td>Brooklyn</td>\n",
       "      <td>NY</td>\n",
       "      <td>11210</td>\n",
       "      <td>Campus-wide, sub-meter installation at NYC Col...</td>\n",
       "    </tr>\n",
       "    <tr>\n",
       "      <th>2</th>\n",
       "      <td>2020</td>\n",
       "      <td>09/03/2020</td>\n",
       "      <td>ES-ESN-0673</td>\n",
       "      <td>SUNY Alfred State - Phase 1</td>\n",
       "      <td>Western New York</td>\n",
       "      <td>B - Genesee</td>\n",
       "      <td>ALLEGANY</td>\n",
       "      <td>Western</td>\n",
       "      <td>SUNY - State University of New York</td>\n",
       "      <td>State University of New York</td>\n",
       "      <td>...</td>\n",
       "      <td>0.0</td>\n",
       "      <td>3654.29300</td>\n",
       "      <td>613.877400</td>\n",
       "      <td>0.0</td>\n",
       "      <td>10 Upper College Dr</td>\n",
       "      <td>NaN</td>\n",
       "      <td>Alfred</td>\n",
       "      <td>NY</td>\n",
       "      <td>14802</td>\n",
       "      <td>The scope of work includes the installation of...</td>\n",
       "    </tr>\n",
       "    <tr>\n",
       "      <th>3</th>\n",
       "      <td>2020</td>\n",
       "      <td>09/01/2020</td>\n",
       "      <td>ES-ESN-0721</td>\n",
       "      <td>Town of Ulster - LED Street Lighting (DESIGN O...</td>\n",
       "      <td>Mid-Hudson</td>\n",
       "      <td>G - Hudson Valley</td>\n",
       "      <td>ULSTER</td>\n",
       "      <td>Southeastern</td>\n",
       "      <td>ULSTER, TOWN OF</td>\n",
       "      <td>NaN</td>\n",
       "      <td>...</td>\n",
       "      <td>0.0</td>\n",
       "      <td>312.93100</td>\n",
       "      <td>18.162270</td>\n",
       "      <td>0.0</td>\n",
       "      <td>Multiple</td>\n",
       "      <td>NaN</td>\n",
       "      <td>Lake Katrine</td>\n",
       "      <td>NY</td>\n",
       "      <td>12449</td>\n",
       "      <td>Design Only services for LED Street lighting</td>\n",
       "    </tr>\n",
       "    <tr>\n",
       "      <th>4</th>\n",
       "      <td>2020</td>\n",
       "      <td>08/31/2020</td>\n",
       "      <td>ES-GSN-0528</td>\n",
       "      <td>NYPD - Old 41st Police Precinct - Lighting &amp; S...</td>\n",
       "      <td>New York City</td>\n",
       "      <td>J - New York City</td>\n",
       "      <td>BRONX</td>\n",
       "      <td>Southeastern</td>\n",
       "      <td>CITY OF NEW YORK</td>\n",
       "      <td>NYPD - New York City Police Department</td>\n",
       "      <td>...</td>\n",
       "      <td>0.0</td>\n",
       "      <td>802.66210</td>\n",
       "      <td>90.529750</td>\n",
       "      <td>0.0</td>\n",
       "      <td>1086 Simpson Street</td>\n",
       "      <td>NaN</td>\n",
       "      <td>Bronx</td>\n",
       "      <td>NY</td>\n",
       "      <td>10459</td>\n",
       "      <td>The scope of work includes an energy efficient...</td>\n",
       "    </tr>\n",
       "    <tr>\n",
       "      <th>...</th>\n",
       "      <td>...</td>\n",
       "      <td>...</td>\n",
       "      <td>...</td>\n",
       "      <td>...</td>\n",
       "      <td>...</td>\n",
       "      <td>...</td>\n",
       "      <td>...</td>\n",
       "      <td>...</td>\n",
       "      <td>...</td>\n",
       "      <td>...</td>\n",
       "      <td>...</td>\n",
       "      <td>...</td>\n",
       "      <td>...</td>\n",
       "      <td>...</td>\n",
       "      <td>...</td>\n",
       "      <td>...</td>\n",
       "      <td>...</td>\n",
       "      <td>...</td>\n",
       "      <td>...</td>\n",
       "      <td>...</td>\n",
       "      <td>...</td>\n",
       "    </tr>\n",
       "    <tr>\n",
       "      <th>2467</th>\n",
       "      <td>1988</td>\n",
       "      <td>12/31/1988</td>\n",
       "      <td>CH10727</td>\n",
       "      <td>Watt Busters - ENDICOTT</td>\n",
       "      <td>Southern Tier</td>\n",
       "      <td>C - Central</td>\n",
       "      <td>BROOME</td>\n",
       "      <td>Central</td>\n",
       "      <td>ENDICOTT, VILLAGE OF</td>\n",
       "      <td>NaN</td>\n",
       "      <td>...</td>\n",
       "      <td>0.0</td>\n",
       "      <td>217.41380</td>\n",
       "      <td>12.618280</td>\n",
       "      <td>0.0</td>\n",
       "      <td>NaN</td>\n",
       "      <td>NaN</td>\n",
       "      <td>NaN</td>\n",
       "      <td>NY</td>\n",
       "      <td>NaN</td>\n",
       "      <td>Home energy audits and weatherization services...</td>\n",
       "    </tr>\n",
       "    <tr>\n",
       "      <th>2468</th>\n",
       "      <td>1988</td>\n",
       "      <td>12/31/1988</td>\n",
       "      <td>CH10723</td>\n",
       "      <td>Watt Busters - SPENCERPORT</td>\n",
       "      <td>Finger Lakes</td>\n",
       "      <td>B - Genesee</td>\n",
       "      <td>MONROE</td>\n",
       "      <td>Central</td>\n",
       "      <td>SPENCERPORT, VILLAGE OF</td>\n",
       "      <td>NaN</td>\n",
       "      <td>...</td>\n",
       "      <td>0.0</td>\n",
       "      <td>2035.00000</td>\n",
       "      <td>118.128600</td>\n",
       "      <td>0.0</td>\n",
       "      <td>NaN</td>\n",
       "      <td>NaN</td>\n",
       "      <td>NaN</td>\n",
       "      <td>NY</td>\n",
       "      <td>NaN</td>\n",
       "      <td>Home energy audits and weatherization services...</td>\n",
       "    </tr>\n",
       "    <tr>\n",
       "      <th>2469</th>\n",
       "      <td>1987</td>\n",
       "      <td>12/31/1987</td>\n",
       "      <td>CH10725</td>\n",
       "      <td>Watt Busters - GROTON</td>\n",
       "      <td>Southern Tier</td>\n",
       "      <td>C - Central</td>\n",
       "      <td>TOMPKINS</td>\n",
       "      <td>Central</td>\n",
       "      <td>GROTON, VILLAGE OF</td>\n",
       "      <td>NaN</td>\n",
       "      <td>...</td>\n",
       "      <td>0.0</td>\n",
       "      <td>612.75870</td>\n",
       "      <td>35.572800</td>\n",
       "      <td>0.0</td>\n",
       "      <td>NaN</td>\n",
       "      <td>NaN</td>\n",
       "      <td>NaN</td>\n",
       "      <td>NY</td>\n",
       "      <td>NaN</td>\n",
       "      <td>Home energy audits and weatherization services...</td>\n",
       "    </tr>\n",
       "    <tr>\n",
       "      <th>2470</th>\n",
       "      <td>1987</td>\n",
       "      <td>12/31/1987</td>\n",
       "      <td>CH79002</td>\n",
       "      <td>Watt Busters - SHERRILL</td>\n",
       "      <td>Mohawk Valley</td>\n",
       "      <td>E - Mohawk Valley</td>\n",
       "      <td>ONEIDA</td>\n",
       "      <td>Central</td>\n",
       "      <td>SHERRILL, CITY OF</td>\n",
       "      <td>NaN</td>\n",
       "      <td>...</td>\n",
       "      <td>0.0</td>\n",
       "      <td>178.10350</td>\n",
       "      <td>10.336250</td>\n",
       "      <td>0.0</td>\n",
       "      <td>NaN</td>\n",
       "      <td>NaN</td>\n",
       "      <td>NaN</td>\n",
       "      <td>NY</td>\n",
       "      <td>NaN</td>\n",
       "      <td>Home energy audits and weatherization services...</td>\n",
       "    </tr>\n",
       "    <tr>\n",
       "      <th>2471</th>\n",
       "      <td>1987</td>\n",
       "      <td>12/31/1987</td>\n",
       "      <td>CH79001</td>\n",
       "      <td>Watt Busters - SKANEATELES</td>\n",
       "      <td>Central New York</td>\n",
       "      <td>C - Central</td>\n",
       "      <td>ONONDAGA</td>\n",
       "      <td>Central</td>\n",
       "      <td>SKANEATELES, TOWN OF</td>\n",
       "      <td>NaN</td>\n",
       "      <td>...</td>\n",
       "      <td>0.0</td>\n",
       "      <td>37.06897</td>\n",
       "      <td>2.147792</td>\n",
       "      <td>0.0</td>\n",
       "      <td>NaN</td>\n",
       "      <td>NaN</td>\n",
       "      <td>NaN</td>\n",
       "      <td>NY</td>\n",
       "      <td>NaN</td>\n",
       "      <td>Home energy audits and weatherization services...</td>\n",
       "    </tr>\n",
       "  </tbody>\n",
       "</table>\n",
       "<p>2472 rows × 31 columns</p>\n",
       "</div>"
      ],
      "text/plain": [
       "      Year completed Date Completed Project Code  \\\n",
       "0               2020     09/18/2020  ES-GSN-0822   \n",
       "1               2020     09/03/2020  ES-GSN-0851   \n",
       "2               2020     09/03/2020  ES-ESN-0673   \n",
       "3               2020     09/01/2020  ES-ESN-0721   \n",
       "4               2020     08/31/2020  ES-GSN-0528   \n",
       "...              ...            ...          ...   \n",
       "2467            1988     12/31/1988      CH10727   \n",
       "2468            1988     12/31/1988      CH10723   \n",
       "2469            1987     12/31/1987      CH10725   \n",
       "2470            1987     12/31/1987      CH79002   \n",
       "2471            1987     12/31/1987      CH79001   \n",
       "\n",
       "                                           Project Name  \\\n",
       "0     NYCT - Manhattanville Bus Depot - Component Re...   \n",
       "1          CUNY - Multiple Sites - Sub-Metering Phase 2   \n",
       "2                           SUNY Alfred State - Phase 1   \n",
       "3     Town of Ulster - LED Street Lighting (DESIGN O...   \n",
       "4     NYPD - Old 41st Police Precinct - Lighting & S...   \n",
       "...                                                 ...   \n",
       "2467                            Watt Busters - ENDICOTT   \n",
       "2468                         Watt Busters - SPENCERPORT   \n",
       "2469                              Watt Busters - GROTON   \n",
       "2470                            Watt Busters - SHERRILL   \n",
       "2471                         Watt Busters - SKANEATELES   \n",
       "\n",
       "     Regional Economic Development Council         NYISO Zone NY State County  \\\n",
       "0                            New York City  J - New York City        NEW YORK   \n",
       "1                            New York City  J - New York City        NEW YORK   \n",
       "2                         Western New York        B - Genesee        ALLEGANY   \n",
       "3                               Mid-Hudson  G - Hudson Valley          ULSTER   \n",
       "4                            New York City  J - New York City           BRONX   \n",
       "...                                    ...                ...             ...   \n",
       "2467                         Southern Tier        C - Central          BROOME   \n",
       "2468                          Finger Lakes        B - Genesee          MONROE   \n",
       "2469                         Southern Tier        C - Central        TOMPKINS   \n",
       "2470                         Mohawk Valley  E - Mohawk Valley          ONEIDA   \n",
       "2471                      Central New York        C - Central        ONONDAGA   \n",
       "\n",
       "         NY Region                                     Customer  \\\n",
       "0     Southeastern  MTA - Metropolitan Transportation Authority   \n",
       "1     Southeastern                  CITY UNIVERSITY OF NEW YORK   \n",
       "2          Western          SUNY - State University of New York   \n",
       "3     Southeastern                              ULSTER, TOWN OF   \n",
       "4     Southeastern                             CITY OF NEW YORK   \n",
       "...            ...                                          ...   \n",
       "2467       Central                         ENDICOTT, VILLAGE OF   \n",
       "2468       Central                      SPENCERPORT, VILLAGE OF   \n",
       "2469       Central                           GROTON, VILLAGE OF   \n",
       "2470       Central                            SHERRILL, CITY OF   \n",
       "2471       Central                         SKANEATELES, TOWN OF   \n",
       "\n",
       "                                      Agency  ... Coal Savings (Tons)  \\\n",
       "0      MTA - New York City Transit Authority  ...                 0.0   \n",
       "1                City University of New York  ...                 0.0   \n",
       "2               State University of New York  ...                 0.0   \n",
       "3                                        NaN  ...                 0.0   \n",
       "4     NYPD - New York City Police Department  ...                 0.0   \n",
       "...                                      ...  ...                 ...   \n",
       "2467                                     NaN  ...                 0.0   \n",
       "2468                                     NaN  ...                 0.0   \n",
       "2469                                     NaN  ...                 0.0   \n",
       "2470                                     NaN  ...                 0.0   \n",
       "2471                                     NaN  ...                 0.0   \n",
       "\n",
       "     Equivalent Barrels of Oil Saved  \\\n",
       "0                        11662.74000   \n",
       "1                          847.91720   \n",
       "2                         3654.29300   \n",
       "3                          312.93100   \n",
       "4                          802.66210   \n",
       "...                              ...   \n",
       "2467                       217.41380   \n",
       "2468                      2035.00000   \n",
       "2469                       612.75870   \n",
       "2470                       178.10350   \n",
       "2471                        37.06897   \n",
       "\n",
       "      Reduction in Greenhouse Gas Emissions (Tons)  Renewable Energy (KW)  \\\n",
       "0                                      2585.361000                    0.0   \n",
       "1                                       128.001900                    0.0   \n",
       "2                                       613.877400                    0.0   \n",
       "3                                        18.162270                    0.0   \n",
       "4                                        90.529750                    0.0   \n",
       "...                                            ...                    ...   \n",
       "2467                                     12.618280                    0.0   \n",
       "2468                                    118.128600                    0.0   \n",
       "2469                                     35.572800                    0.0   \n",
       "2470                                     10.336250                    0.0   \n",
       "2471                                      2.147792                    0.0   \n",
       "\n",
       "                  Address  Address Ext          City  State    Zip  \\\n",
       "0       666 West 133rd St          NaN      New York     NY  10027   \n",
       "1        2900 Bedford Ave          NaN      Brooklyn     NY  11210   \n",
       "2     10 Upper College Dr          NaN        Alfred     NY  14802   \n",
       "3                Multiple          NaN  Lake Katrine     NY  12449   \n",
       "4     1086 Simpson Street          NaN         Bronx     NY  10459   \n",
       "...                   ...          ...           ...    ...    ...   \n",
       "2467                  NaN          NaN           NaN     NY    NaN   \n",
       "2468                  NaN          NaN           NaN     NY    NaN   \n",
       "2469                  NaN          NaN           NaN     NY    NaN   \n",
       "2470                  NaN          NaN           NaN     NY    NaN   \n",
       "2471                  NaN          NaN           NaN     NY    NaN   \n",
       "\n",
       "                         Project or Program description  \n",
       "0     Energy Efficiency upgrades at the Manhattanvil...  \n",
       "1     Campus-wide, sub-meter installation at NYC Col...  \n",
       "2     The scope of work includes the installation of...  \n",
       "3          Design Only services for LED Street lighting  \n",
       "4     The scope of work includes an energy efficient...  \n",
       "...                                                 ...  \n",
       "2467  Home energy audits and weatherization services...  \n",
       "2468  Home energy audits and weatherization services...  \n",
       "2469  Home energy audits and weatherization services...  \n",
       "2470  Home energy audits and weatherization services...  \n",
       "2471  Home energy audits and weatherization services...  \n",
       "\n",
       "[2472 rows x 31 columns]"
      ]
     },
     "execution_count": 141,
     "metadata": {},
     "output_type": "execute_result"
    }
   ],
   "source": [
    "ann_nrg_efficiency_cmpltd_projcts"
   ]
  },
  {
   "cell_type": "markdown",
   "metadata": {},
   "source": [
    "## Load"
   ]
  },
  {
   "cell_type": "markdown",
   "metadata": {},
   "source": [
    "Takes a dictionary of dataFrames and pushes it into mySQL as seperate tables"
   ]
  },
  {
   "cell_type": "code",
   "execution_count": 142,
   "metadata": {},
   "outputs": [],
   "source": [
    "ann_nrg_efficiency_cmpltd_projcts.to_sql('ann_nrg_efficiency_cmpltd_projcts', engine, index=False, if_exists='replace')"
   ]
  },
  {
   "cell_type": "code",
   "execution_count": null,
   "metadata": {},
   "outputs": [],
   "source": []
  }
 ],
 "metadata": {
  "kernelspec": {
   "display_name": "Python 3",
   "language": "python",
   "name": "python3"
  },
  "language_info": {
   "codemirror_mode": {
    "name": "ipython",
    "version": 3
   },
   "file_extension": ".py",
   "mimetype": "text/x-python",
   "name": "python",
   "nbconvert_exporter": "python",
   "pygments_lexer": "ipython3",
   "version": "3.8.3"
  }
 },
 "nbformat": 4,
 "nbformat_minor": 4
}
